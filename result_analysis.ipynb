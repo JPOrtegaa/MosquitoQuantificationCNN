{
  "cells": [
    {
      "cell_type": "code",
      "execution_count": 27,
      "metadata": {
        "id": "KnlnY8gmMjiJ"
      },
      "outputs": [],
      "source": [
        "import pandas as pd\n",
        "import numpy as np\n",
        "import matplotlib.pyplot as plt\n",
        "import seaborn as sns"
      ]
    },
    {
      "cell_type": "code",
      "execution_count": 28,
      "metadata": {
        "id": "lJ4Uj4AGuPw8"
      },
      "outputs": [],
      "source": [
        "from scipy import stats"
      ]
    },
    {
      "cell_type": "markdown",
      "metadata": {
        "id": "j9WpmKkMaG9d"
      },
      "source": [
        "# Criação de DataFrames"
      ]
    },
    {
      "cell_type": "code",
      "execution_count": 29,
      "metadata": {
        "id": "SSRj3ATdMWw_"
      },
      "outputs": [],
      "source": [
        "path1 = 'results/AedesXOutrosFemea_MotoX2/NotPreTrained/ResultTable_resnet50_AedesXOutrosFemea_MotoX2_Final.csv'\n",
        "path2 = 'results/AedesXOutrosFemea_MotoX2/NotPreTrained/ResultTable_vgg16_AedesXOutrosFemea_MotoX2_Final.csv'\n",
        "path3 = 'results/AedesXOutrosFemea_MotoX2/PreTrained/ResultTable_resnet50_AedesXOutrosFemea_MotoX2_Final.csv'\n",
        "path4 = 'results/AedesXOutrosFemea_MotoX2/PreTrained/ResultTable_vgg16_AedesXOutrosFemea_MotoX2_Final.csv'\n",
        "\n",
        "AedesXOutrosFemea_resnet_npt = pd.read_csv(path1)\n",
        "AedesXOutrosFemea_resnet_pt = pd.read_csv(path3)\n",
        "AedesXOutrosFemea_vgg_npt = pd.read_csv(path2)\n",
        "AedesXOutrosFemea_vgg_pt = pd.read_csv(path4)\n",
        "\n",
        "path5 = 'results/AedesXOutros_MotoX2/NotPreTrained/ResultTable_resnet50_AedesXOutros_MotoX2_Final.csv'\n",
        "path6 = 'results/AedesXOutros_MotoX2/NotPreTrained/ResultTable_vgg16_AedesXOutros_MotoX2_Final.csv'\n",
        "path7 = 'results/AedesXOutros_MotoX2/PreTrained/ResultTable_resnet50_AedesXOutros_MotoX2_Final.csv'\n",
        "path8 = 'results/AedesXOutros_MotoX2/PreTrained/ResultTable_vgg16_AedesXOutros_MotoX2_Final.csv'\n",
        "\n",
        "AedesXOutros_resnet_npt = pd.read_csv(path5)\n",
        "AedesXOutros_resnet_pt = pd.read_csv(path7)\n",
        "AedesXOutros_vgg_npt = pd.read_csv(path6)\n",
        "AedesXOutros_vgg_pt = pd.read_csv(path8)\n",
        "\n",
        "path9 = 'results/AegyptiXOutros_MotoX2/NotPreTrained/ResultTable_resnet50_AegyptiXOutros_MotoX2_Final.csv'\n",
        "path10 = 'results/AegyptiXOutros_MotoX2/NotPreTrained/ResultTable_vgg16_AegyptiXOutros_MotoX2_Final.csv'\n",
        "path11 = 'results/AegyptiXOutros_MotoX2/PreTrained/ResultTable_resnet50_AegyptiXOutros_MotoX2_Final.csv'\n",
        "path12 = 'results/AegyptiXOutros_MotoX2/PreTrained/ResultTable_vgg16_AegyptiXOutros_MotoX2_Final.csv'\n",
        "\n",
        "AegyptiXOutros_resnet_npt = pd.read_csv(path9)\n",
        "AegyptiXOutros_resnet_pt = pd.read_csv(path11)\n",
        "AegyptiXOutros_vgg_npt = pd.read_csv(path10)\n",
        "AegyptiXOutros_vgg_pt = pd.read_csv(path12)\n",
        "\n",
        "path13 = 'results/AedesXOutros_Park/NotPreTrained/ResultTable_resnet50_AedesXOutros_Park_Final.csv'\n",
        "path14 = 'results/AedesXOutros_Park/NotPreTrained/ResultTable_vgg16_AedesXOutros_Park_Final.csv'\n",
        "path15 = 'results/AedesXOutros_Park/PreTrained/ResultTable_resnet50_AedesXOutros_Park_Final.csv'\n",
        "path16 = 'results/AedesXOutros_Park/PreTrained/ResultTable_vgg16_AedesXOutros_Park_Final.csv'\n",
        "\n",
        "AedesXOutros_resnet_npt_park = pd.read_csv(path13)\n",
        "AedesXOutros_resnet_pt_park = pd.read_csv(path15)\n",
        "AedesXOutros_vgg_npt_park = pd.read_csv(path14)\n",
        "AedesXOutros_vgg_pt_park = pd.read_csv(path16)\n",
        "\n",
        "path17 = 'results/VetorXNaoVetor_Park/NotPreTrained/ResultTable_resnet50_VetorXNaoVetor_Park_Final.csv'\n",
        "path18 = 'results/VetorXNaoVetor_Park/NotPreTrained/ResultTable_vgg16_VetorXNaoVetor_Park_Final.csv'\n",
        "path19 = 'results/VetorXNaoVetor_Park/PreTrained/ResultTable_resnet50_VetorXNaoVetor_Park_Final.csv'\n",
        "path20 = 'results/VetorXNaoVetor_Park/PreTrained/ResultTable_vgg16_VetorXNaoVetor_Park_Final.csv'\n",
        "\n",
        "VetorXNaoVetor_resnet_npt_park = pd.read_csv(path17)\n",
        "VetorXNaoVetor_resnet_pt_park = pd.read_csv(path19)\n",
        "VetorXNaoVetor_vgg_npt_park = pd.read_csv(path18)\n",
        "VetorXNaoVetor_vgg_pt_park = pd.read_csv(path20)\n",
        "\n",
        "path21 = 'results/AegyptiXOutros_Pise/NotPreTrained/ResultTable_resnet50_AegyptiXOutros_Pise_Final.csv'\n",
        "path22 = 'results/AegyptiXOutros_Pise/NotPreTrained/ResultTable_vgg16_AegyptiXOutros_Pise_Final.csv'\n",
        "path23 = 'results/AegyptiXOutros_Pise/PreTrained/ResultTable_resnet50_AegyptiXOutros_Pise_Final.csv'\n",
        "path24 = 'results/AegyptiXOutros_Pise/PreTrained/ResultTable_vgg16_AegyptiXOutros_Pise_Final.csv'\n",
        "\n",
        "AegyptiXOutros_resnet_npt_pise = pd.read_csv(path21)\n",
        "AegyptiXOutros_resnet_pt_pise = pd.read_csv(path23)\n",
        "AegyptiXOutros_vgg_npt_pise = pd.read_csv(path22)\n",
        "AegyptiXOutros_vgg_pt_pise = pd.read_csv(path24)"
      ]
    },
    {
      "cell_type": "code",
      "execution_count": 30,
      "metadata": {
        "id": "i850KGsuZcpD"
      },
      "outputs": [],
      "source": [
        "AedesXOutros_resnet = pd.concat([AedesXOutros_resnet_npt, AedesXOutros_resnet_pt], ignore_index=True)\n",
        "AedesXOutros_vgg = pd.concat([AedesXOutros_vgg_npt, AedesXOutros_vgg_pt], ignore_index=True)\n",
        "\n",
        "AedesXOutrosFemea_resnet = pd.concat([AedesXOutrosFemea_resnet_npt, AedesXOutrosFemea_resnet_pt], ignore_index=True)\n",
        "AedesXOutrosFemea_vgg = pd.concat([AedesXOutrosFemea_vgg_npt, AedesXOutrosFemea_vgg_pt], ignore_index=True)\n",
        "\n",
        "AegyptiXOutros_resnet = pd.concat([AegyptiXOutros_resnet_npt, AegyptiXOutros_resnet_pt], ignore_index=True)\n",
        "AegyptiXOutros_vgg = pd.concat([AegyptiXOutros_vgg_npt, AegyptiXOutros_vgg_pt], ignore_index=True)\n",
        "\n",
        "AedesXOutros_resnet_park = pd.concat([AedesXOutros_resnet_npt_park, AedesXOutros_resnet_pt_park], ignore_index=True)\n",
        "AedesXOutros_vgg_park = pd.concat([AedesXOutros_vgg_npt_park, AedesXOutros_vgg_pt_park], ignore_index=True)\n",
        "\n",
        "VetorXNaoVetor_resnet_park = pd.concat([VetorXNaoVetor_resnet_npt_park, AedesXOutros_resnet_pt_park], ignore_index=True)\n",
        "VetorXNaoVetor_vgg_park = pd.concat([VetorXNaoVetor_vgg_npt_park, AedesXOutros_vgg_pt_park], ignore_index=True)\n",
        "\n",
        "AegyptiXOutros_resnet_pise = pd.concat([AegyptiXOutros_resnet_npt_pise, AegyptiXOutros_resnet_pt_pise], ignore_index=True)\n",
        "AegyptiXOutros_vgg_pise = pd.concat([AegyptiXOutros_vgg_npt_pise, AegyptiXOutros_vgg_pt_pise], ignore_index=True)"
      ]
    },
    {
      "cell_type": "code",
      "execution_count": 31,
      "metadata": {
        "id": "KWLT_zI-ZdUJ"
      },
      "outputs": [],
      "source": [
        "AedesXOutros = pd.concat([AedesXOutros_resnet, AedesXOutros_vgg], ignore_index=True)\n",
        "\n",
        "AedesXOutrosFemea = pd.concat([AedesXOutrosFemea_resnet, AedesXOutrosFemea_vgg], ignore_index=True)\n",
        "\n",
        "AegyptiXOutros = pd.concat([AegyptiXOutros_resnet, AegyptiXOutros_vgg], ignore_index=True)\n",
        "\n",
        "AedesXOutros_park = pd.concat([AedesXOutros_resnet_park, AedesXOutros_vgg_park], ignore_index=True)\n",
        "\n",
        "VetorXNaoVetor_park = pd.concat([VetorXNaoVetor_resnet_park, VetorXNaoVetor_vgg_park], ignore_index=True)\n",
        "\n",
        "AegyptiXOutros_pise = pd.concat([AegyptiXOutros_resnet_pise, AegyptiXOutros_vgg_pise], ignore_index=True)"
      ]
    },
    {
      "cell_type": "markdown",
      "metadata": {
        "id": "5krPXOaZuux3"
      },
      "source": [
        "# Mean Absolute Error"
      ]
    },
    {
      "cell_type": "markdown",
      "metadata": {
        "id": "1aL-JMmH0vul"
      },
      "source": [
        "## Functions"
      ]
    },
    {
      "cell_type": "code",
      "execution_count": 32,
      "metadata": {
        "id": "Cznxio6Oy4ff"
      },
      "outputs": [],
      "source": [
        "quantifiers = ['CC', 'ACC', 'X', 'MAX', 'T50', 'MS', 'DyS', 'HDy', 'SORD']\n",
        "resnet_datasets = [AedesXOutros_resnet, AedesXOutrosFemea_resnet, AegyptiXOutros_resnet, AedesXOutros_resnet_park,\n",
        "                   VetorXNaoVetor_resnet_park, AegyptiXOutros_resnet_pise]\n",
        "vgg_datasets = [AedesXOutros_vgg, AedesXOutrosFemea_vgg, AegyptiXOutros_vgg, AedesXOutros_vgg_park,\n",
        "                   VetorXNaoVetor_vgg_park, AegyptiXOutros_vgg_pise]\n",
        "pre_trained = [0, 1]\n",
        "index = ['DTS1', 'DTS2', 'DTS3', 'DTS4', 'DTS5', 'DTS6']"
      ]
    },
    {
      "cell_type": "code",
      "execution_count": 33,
      "metadata": {
        "id": "K9wHgrGSzRZh"
      },
      "outputs": [],
      "source": [
        "def abs_error_list(datasets, quantifiers):\n",
        "  result = pd.DataFrame(columns=['CC_npt', 'CC_pt', 'ACC_npt', 'ACC_pt', 'X_npt', 'X_pt',\n",
        "                                 'MAX_npt', 'MAX_pt', 'T50_npt', 'T50_pt', 'MS_npt', 'MS_pt',\n",
        "                                 'DyS_npt', 'DyS_pt', 'HDy_npt', 'HDy_pt', 'SORD_npt', 'SORD_pt'])\n",
        "  for dataset in datasets:\n",
        "    df = dataset.groupby(['quantifier', 'pre_trained', 'alpha']).aggregate({'abs_error': 'mean'})\n",
        "    quantifiers_mae = []\n",
        "    for quantifier in quantifiers:\n",
        "      df_pt = df.query(f'quantifier==\"{quantifier}\" & pre_trained == 0')\n",
        "      df_npt = df.query(f'quantifier==\"{quantifier}\" & pre_trained == 1')\n",
        "      quantifiers_mae.append(df_pt['abs_error'].tolist())\n",
        "      quantifiers_mae.append(df_npt['abs_error'].tolist())\n",
        "\n",
        "    instance = {'CC_npt': quantifiers_mae[0], 'CC_pt':quantifiers_mae[1],\n",
        "                'ACC_npt':quantifiers_mae[2], 'ACC_pt':quantifiers_mae[3],\n",
        "                'X_npt':quantifiers_mae[4], 'X_pt':quantifiers_mae[5],\n",
        "                'MAX_npt':quantifiers_mae[6], 'MAX_pt':quantifiers_mae[7],\n",
        "                'T50_npt':quantifiers_mae[8], 'T50_pt':quantifiers_mae[9],\n",
        "                'MS_npt':quantifiers_mae[10], 'MS_pt':quantifiers_mae[11],\n",
        "                'DyS_npt':quantifiers_mae[12], 'DyS_pt':quantifiers_mae[13],\n",
        "                'HDy_npt':quantifiers_mae[14], 'HDy_pt':quantifiers_mae[15],\n",
        "                'SORD_npt':quantifiers_mae[16], 'SORD_pt':quantifiers_mae[17]}\n",
        "\n",
        "    instance = pd.DataFrame([instance])\n",
        "    result = pd.concat([result, instance])\n",
        "\n",
        "  return result"
      ]
    },
    {
      "cell_type": "code",
      "execution_count": 34,
      "metadata": {
        "id": "cNyS6YO0U0tW"
      },
      "outputs": [],
      "source": [
        "def best_abs_error_list(best_config_df, resnet_abs, vgg_abs):\n",
        "  result = pd.DataFrame(columns=quantifiers)\n",
        "\n",
        "  rows = best_config_df.shape[0]\n",
        "  columns = best_config_df.columns\n",
        "\n",
        "  for i in range(rows):\n",
        "    instance = []\n",
        "    for col in columns:\n",
        "      qnt = best_config_df[col][i]\n",
        "      qnt_config = qnt[0]\n",
        "      model_name = qnt[1]\n",
        "\n",
        "      if model_name == 'resnet50':\n",
        "        model_abs = resnet_abs\n",
        "      else:\n",
        "        model_abs = vgg_abs\n",
        "\n",
        "      instance.append(model_abs[qnt_config][i])\n",
        "\n",
        "    instance = {'CC': instance[0], 'ACC': instance[1], 'X': instance[2],\n",
        "                'MAX': instance[3], 'T50': instance[4], 'MS': instance[5],\n",
        "                'DyS': instance[6], 'HDy': instance[7], 'SORD': instance[8]}\n",
        "    instance = pd.DataFrame([instance])\n",
        "    result = pd.concat([result, instance])\n",
        "\n",
        "  return result"
      ]
    },
    {
      "cell_type": "code",
      "execution_count": 35,
      "metadata": {
        "id": "7jJGAJyy-i-p"
      },
      "outputs": [],
      "source": [
        "def best_config_model(df_abs, quantifiers):\n",
        "  result = pd.DataFrame(columns=quantifiers)\n",
        "\n",
        "  rows = df_abs.shape[0]\n",
        "  columns= df_abs.columns\n",
        "  columns_pair = [(columns[i], columns[i+1]) for i in range(0 , len(columns)-1, 2)]\n",
        "\n",
        "  for i in range(rows):\n",
        "    instance = []\n",
        "    for pair in columns_pair:\n",
        "      quant_result = []\n",
        "      quant_npt = df_abs[pair[0]][i]\n",
        "      quant_npt_mean = np.mean(quant_npt)\n",
        "\n",
        "      quant_pt = df_abs[pair[1]][i]\n",
        "      quant_pt_mean = np.mean(quant_pt)\n",
        "\n",
        "      if quant_npt_mean < quant_pt_mean:\n",
        "        quant_result.append(pair[0])\n",
        "      else:\n",
        "        quant_result.append(pair[1])\n",
        "\n",
        "      statistic, p_value = stats.ttest_ind(quant_npt, quant_pt)\n",
        "      if p_value < 0.05:\n",
        "        quant_result.append('diff')\n",
        "      else:\n",
        "        quant_result.append('not_diff')\n",
        "\n",
        "      instance.append(quant_result)\n",
        "\n",
        "    instance = {'CC': instance[0], 'ACC': instance[1], 'X': instance[2],\n",
        "                'MAX': instance[3], 'T50': instance[4], 'MS': instance[5],\n",
        "                'DyS': instance[6], 'HDy': instance[7], 'SORD': instance[8]}\n",
        "    instance = pd.DataFrame([instance])\n",
        "    result = pd.concat([result, instance])\n",
        "\n",
        "  return result"
      ]
    },
    {
      "cell_type": "code",
      "execution_count": 36,
      "metadata": {
        "id": "LBYiV8ztRz7X"
      },
      "outputs": [],
      "source": [
        "def best_config_overall(resnet50_df, vgg16_df, resnet50_best, vgg16_best):\n",
        "  result = pd.DataFrame(columns=resnet50_best.columns)\n",
        "  rows = resnet50_best.shape[0]\n",
        "  columns = resnet50_best.columns\n",
        "\n",
        "  for i in range(rows):\n",
        "    instance = []\n",
        "    for column in columns:\n",
        "      qnt_result = []\n",
        "\n",
        "      qnt_res = resnet50_best[column][i]\n",
        "      qnt_res_name = qnt_res[0]\n",
        "      qnt_vgg = vgg16_best[column][i]\n",
        "      qnt_vgg_name = qnt_vgg[0]\n",
        "\n",
        "      qnt_res = resnet50_df[qnt_res_name][i]\n",
        "      qnt_res_mean = np.mean(qnt_res)\n",
        "      qnt_vgg = vgg16_df[qnt_vgg_name][i]\n",
        "      qnt_vgg_mean = np.mean(qnt_vgg)\n",
        "\n",
        "      if qnt_res_mean < qnt_vgg_mean:\n",
        "        qnt_result.append(qnt_res_name)\n",
        "        qnt_result.append('resnet50')\n",
        "      else:\n",
        "        qnt_result.append(qnt_vgg_name)\n",
        "        qnt_result.append('vgg16')\n",
        "\n",
        "      statistic, p_value = stats.ttest_ind(qnt_res, qnt_vgg)\n",
        "      if p_value < 0.05:\n",
        "        qnt_result.append('diff')\n",
        "      else:\n",
        "        qnt_result.append('not_diff')\n",
        "\n",
        "      instance.append(qnt_result)\n",
        "    instance = {'CC': instance[0], 'ACC': instance[1], 'X': instance[2],\n",
        "                'MAX': instance[3], 'T50': instance[4], 'MS': instance[5],\n",
        "                'DyS': instance[6], 'HDy': instance[7], 'SORD': instance[8]}\n",
        "    instance = pd.DataFrame([instance])\n",
        "    result = pd.concat([result, instance])\n",
        "  return result"
      ]
    },
    {
      "cell_type": "code",
      "execution_count": 37,
      "metadata": {
        "id": "cDeO8XDowyYE"
      },
      "outputs": [],
      "source": [
        "def mae_model(model_abs):\n",
        "  result = pd.DataFrame(columns = model_abs.columns)\n",
        "\n",
        "  rows = model_abs.shape[0]\n",
        "  columns = model_abs.columns\n",
        "\n",
        "  for i in range(rows):\n",
        "    instance = []\n",
        "    for col in columns:\n",
        "      mae = np.mean(model_abs[col][i])\n",
        "      instance.append(mae)\n",
        "\n",
        "    instance = {'CC_npt': instance[0], 'CC_pt':instance[1],\n",
        "            'ACC_npt':instance[2], 'ACC_pt':instance[3],\n",
        "            'X_npt':instance[4], 'X_pt':instance[5],\n",
        "            'MAX_npt':instance[6], 'MAX_pt':instance[7],\n",
        "            'T50_npt':instance[8], 'T50_pt':instance[9],\n",
        "            'MS_npt':instance[10], 'MS_pt':instance[11],\n",
        "            'DyS_npt':instance[12], 'DyS_pt':instance[13],\n",
        "            'HDy_npt':instance[14], 'HDy_pt':instance[15],\n",
        "            'SORD_npt':instance[16], 'SORD_pt':instance[17]}\n",
        "    instance = pd.DataFrame([instance])\n",
        "    result = pd.concat([result, instance])\n",
        "\n",
        "  return result"
      ]
    },
    {
      "cell_type": "code",
      "execution_count": 38,
      "metadata": {
        "id": "ndXpukpQbL0x"
      },
      "outputs": [],
      "source": [
        "def mae_best_config(best_df, model_abs1, model_abs2=None):\n",
        "  mae_result = pd.DataFrame(columns=quantifiers)\n",
        "  rows = best_df.shape[0]\n",
        "  columns = best_df.columns\n",
        "\n",
        "  for i in range(rows):\n",
        "    instance = []\n",
        "    for col in columns:\n",
        "      result = best_df[col][i]\n",
        "      qnt_name = result[0]\n",
        "\n",
        "      if model_abs2 is not None and result[1] == 'vgg16':\n",
        "        qnt_abs = model_abs2[qnt_name][i]\n",
        "        qnt_mean = np.mean(qnt_abs)\n",
        "      else:\n",
        "        qnt_abs = model_abs1[qnt_name][i]\n",
        "        qnt_mean = np.mean(qnt_abs)\n",
        "\n",
        "      instance.append(qnt_mean)\n",
        "    instance = {'CC': instance[0], 'ACC': instance[1], 'X': instance[2],\n",
        "                'MAX': instance[3], 'T50': instance[4], 'MS': instance[5],\n",
        "                'DyS': instance[6], 'HDy': instance[7], 'SORD': instance[8]}\n",
        "    instance = pd.DataFrame([instance])\n",
        "    mae_result = pd.concat([mae_result, instance])\n",
        "\n",
        "  return mae_result"
      ]
    },
    {
      "cell_type": "markdown",
      "metadata": {
        "id": "rY3jTptwvU4X"
      },
      "source": [
        "## ResNet50 e VGG16 abs_error list"
      ]
    },
    {
      "cell_type": "code",
      "execution_count": 39,
      "metadata": {
        "id": "xLNOiO5x8cll"
      },
      "outputs": [],
      "source": [
        "resnet50_abs = abs_error_list(resnet_datasets, quantifiers)\n",
        "resnet50_abs.index = index\n",
        "\n",
        "vgg16_abs = abs_error_list(vgg_datasets, quantifiers)\n",
        "vgg16_abs.index = index"
      ]
    },
    {
      "cell_type": "markdown",
      "metadata": {
        "id": "XePZz19_u3-w"
      },
      "source": [
        "### ResNet50 and VGG16 abs_error list example"
      ]
    },
    {
      "cell_type": "code",
      "execution_count": 40,
      "metadata": {
        "colab": {
          "base_uri": "https://localhost:8080/",
          "height": 465
        },
        "id": "uR3rzp88Agk-",
        "outputId": "86bbb84c-a629-49e7-a8a6-95d73304531d"
      },
      "outputs": [
        {
          "data": {
            "text/html": [
              "<div>\n",
              "<style scoped>\n",
              "    .dataframe tbody tr th:only-of-type {\n",
              "        vertical-align: middle;\n",
              "    }\n",
              "\n",
              "    .dataframe tbody tr th {\n",
              "        vertical-align: top;\n",
              "    }\n",
              "\n",
              "    .dataframe thead th {\n",
              "        text-align: right;\n",
              "    }\n",
              "</style>\n",
              "<table border=\"1\" class=\"dataframe\">\n",
              "  <thead>\n",
              "    <tr style=\"text-align: right;\">\n",
              "      <th></th>\n",
              "      <th>CC_npt</th>\n",
              "      <th>CC_pt</th>\n",
              "      <th>ACC_npt</th>\n",
              "      <th>ACC_pt</th>\n",
              "      <th>X_npt</th>\n",
              "      <th>X_pt</th>\n",
              "      <th>MAX_npt</th>\n",
              "      <th>MAX_pt</th>\n",
              "      <th>T50_npt</th>\n",
              "      <th>T50_pt</th>\n",
              "      <th>MS_npt</th>\n",
              "      <th>MS_pt</th>\n",
              "      <th>DyS_npt</th>\n",
              "      <th>DyS_pt</th>\n",
              "      <th>HDy_npt</th>\n",
              "      <th>HDy_pt</th>\n",
              "      <th>SORD_npt</th>\n",
              "      <th>SORD_pt</th>\n",
              "    </tr>\n",
              "  </thead>\n",
              "  <tbody>\n",
              "    <tr>\n",
              "      <th>DTS1</th>\n",
              "      <td>[0.3173333333333333, 0.289, 0.2773333333333333...</td>\n",
              "      <td>[0.085, 0.06933333333333333, 0.048000000000000...</td>\n",
              "      <td>[0.44166666666666665, 0.42833333333333334, 0.4...</td>\n",
              "      <td>[0.056666666666666664, 0.0505, 0.0565, 0.07050...</td>\n",
              "      <td>[0.3491666666666667, 0.35700000000000004, 0.38...</td>\n",
              "      <td>[0.0635, 0.050833333333333335, 0.0523333333333...</td>\n",
              "      <td>[0.3745, 0.38666666666666666, 0.40133333333333...</td>\n",
              "      <td>[0.08466666666666667, 0.07433333333333333, 0.0...</td>\n",
              "      <td>[0.5118333333333334, 0.5003333333333333, 0.534...</td>\n",
              "      <td>[0.024666666666666667, 0.029500000000000002, 0...</td>\n",
              "      <td>[0.45883333333333337, 0.46049999999999996, 0.5...</td>\n",
              "      <td>[0.048666666666666664, 0.030000000000000002, 0...</td>\n",
              "      <td>[0.4186666666666667, 0.46166666666666667, 0.47...</td>\n",
              "      <td>[0.054000000000000006, 0.04416666666666667, 0....</td>\n",
              "      <td>[0.3496666666666667, 0.41133333333333333, 0.41...</td>\n",
              "      <td>[0.030166666666666668, 0.028, 0.0615, 0.0935, ...</td>\n",
              "      <td>[0.3895, 0.39516666666666667, 0.43416666666666...</td>\n",
              "      <td>[0.06133333333333334, 0.04133333333333333, 0.0...</td>\n",
              "    </tr>\n",
              "    <tr>\n",
              "      <th>DTS2</th>\n",
              "      <td>[0.19433333333333333, 0.17750000000000002, 0.1...</td>\n",
              "      <td>[0.09533333333333334, 0.07816666666666668, 0.0...</td>\n",
              "      <td>[0.18233333333333332, 0.17600000000000002, 0.1...</td>\n",
              "      <td>[0.009833333333333333, 0.03233333333333333, 0....</td>\n",
              "      <td>[0.29433333333333334, 0.2515, 0.25933333333333...</td>\n",
              "      <td>[0.0275, 0.021500000000000002, 0.0504999999999...</td>\n",
              "      <td>[0.29533333333333334, 0.2506666666666667, 0.25...</td>\n",
              "      <td>[0.014166666666666666, 0.020833333333333332, 0...</td>\n",
              "      <td>[0.04666666666666667, 0.06949999999999999, 0.1...</td>\n",
              "      <td>[0.0, 0.03666666666666667, 0.1, 0.136666666666...</td>\n",
              "      <td>[0.19749999999999998, 0.18433333333333335, 0.2...</td>\n",
              "      <td>[0.039, 0.024666666666666667, 0.0445, 0.061166...</td>\n",
              "      <td>[0.186, 0.218, 0.2793333333333334, 0.288833333...</td>\n",
              "      <td>[0.007333333333333333, 0.030833333333333334, 0...</td>\n",
              "      <td>[0.17300000000000001, 0.22733333333333333, 0.3...</td>\n",
              "      <td>[0.016, 0.03233333333333333, 0.076166666666666...</td>\n",
              "      <td>[0.19833333333333333, 0.1825, 0.19966666666666...</td>\n",
              "      <td>[0.008166666666666666, 0.025166666666666667, 0...</td>\n",
              "    </tr>\n",
              "    <tr>\n",
              "      <th>DTS3</th>\n",
              "      <td>[0.08033333333333334, 0.06833333333333334, 0.0...</td>\n",
              "      <td>[0.0, 0.03666666666666667, 0.1, 0.136666666666...</td>\n",
              "      <td>[0.14366666666666666, 0.15933333333333335, 0.2...</td>\n",
              "      <td>[0.0, 0.03666666666666667, 0.1, 0.136666666666...</td>\n",
              "      <td>[0.15783333333333335, 0.14816666666666667, 0.1...</td>\n",
              "      <td>[0.36000000000000004, 0.33249999999999996, 0.2...</td>\n",
              "      <td>[0.13616666666666666, 0.128, 0.126, 0.12250000...</td>\n",
              "      <td>[0.218, 0.20633333333333334, 0.126166666666666...</td>\n",
              "      <td>[0.17116666666666666, 0.18316666666666667, 0.2...</td>\n",
              "      <td>[0.025333333333333333, 0.030833333333333334, 0...</td>\n",
              "      <td>[0.16316666666666668, 0.2006666666666667, 0.32...</td>\n",
              "      <td>[0.0, 0.03666666666666667, 0.1, 0.136666666666...</td>\n",
              "      <td>[0.12383333333333332, 0.12116666666666667, 0.1...</td>\n",
              "      <td>[0.26966666666666667, 0.2545, 0.19083333333333...</td>\n",
              "      <td>[0.07466666666666667, 0.058833333333333335, 0....</td>\n",
              "      <td>[0.19933333333333333, 0.19183333333333333, 0.1...</td>\n",
              "      <td>[0.14383333333333334, 0.16233333333333333, 0.2...</td>\n",
              "      <td>[0.34349999999999997, 0.32566666666666666, 0.2...</td>\n",
              "    </tr>\n",
              "    <tr>\n",
              "      <th>DTS4</th>\n",
              "      <td>[0.9543333333333333, 0.9178333333333334, 0.857...</td>\n",
              "      <td>[0.04700000000000001, 0.026333333333333334, 0....</td>\n",
              "      <td>[1.0, 0.9633333333333333, 0.9, 0.8633333333333...</td>\n",
              "      <td>[0.18800000000000003, 0.17666666666666667, 0.1...</td>\n",
              "      <td>[1.0, 0.9633333333333333, 0.9, 0.8633333333333...</td>\n",
              "      <td>[0.8408333333333334, 0.8276666666666667, 0.752...</td>\n",
              "      <td>[1.0, 0.9633333333333333, 0.9, 0.8633333333333...</td>\n",
              "      <td>[0.8408333333333334, 0.8276666666666667, 0.752...</td>\n",
              "      <td>[1.0, 0.9633333333333333, 0.9, 0.8633333333333...</td>\n",
              "      <td>[0.7648333333333334, 0.7390000000000001, 0.691...</td>\n",
              "      <td>[1.0, 0.9633333333333333, 0.9, 0.8633333333333...</td>\n",
              "      <td>[0.18283333333333335, 0.1905, 0.17983333333333...</td>\n",
              "      <td>[0.9966666666666666, 0.9633333333333333, 0.894...</td>\n",
              "      <td>[0.5996666666666666, 0.6138333333333333, 0.531...</td>\n",
              "      <td>[0.995, 0.9623333333333333, 0.891, 0.860166666...</td>\n",
              "      <td>[0.7461666666666668, 0.7513333333333333, 0.653...</td>\n",
              "      <td>[1.0, 0.9633333333333333, 0.9, 0.8633333333333...</td>\n",
              "      <td>[0.7718333333333334, 0.759, 0.6705, 0.66683333...</td>\n",
              "    </tr>\n",
              "    <tr>\n",
              "      <th>DTS5</th>\n",
              "      <td>[0.5796666666666667, 0.5536666666666666, 0.504...</td>\n",
              "      <td>[0.04700000000000001, 0.026333333333333334, 0....</td>\n",
              "      <td>[0.5796666666666667, 0.5536666666666666, 0.504...</td>\n",
              "      <td>[0.18800000000000003, 0.17666666666666667, 0.1...</td>\n",
              "      <td>[0.5980000000000001, 0.5743333333333334, 0.527...</td>\n",
              "      <td>[0.8408333333333334, 0.8276666666666667, 0.752...</td>\n",
              "      <td>[0.5980000000000001, 0.5743333333333334, 0.527...</td>\n",
              "      <td>[0.8408333333333334, 0.8276666666666667, 0.752...</td>\n",
              "      <td>[0.854, 0.8428333333333333, 0.8093333333333333...</td>\n",
              "      <td>[0.7648333333333334, 0.7390000000000001, 0.691...</td>\n",
              "      <td>[0.5638333333333333, 0.5351666666666667, 0.494...</td>\n",
              "      <td>[0.18283333333333335, 0.1905, 0.17983333333333...</td>\n",
              "      <td>[0.5566666666666666, 0.5378333333333334, 0.497...</td>\n",
              "      <td>[0.5996666666666666, 0.6138333333333333, 0.531...</td>\n",
              "      <td>[0.2311666666666667, 0.23933333333333331, 0.20...</td>\n",
              "      <td>[0.7461666666666668, 0.7513333333333333, 0.653...</td>\n",
              "      <td>[0.5589999999999999, 0.531, 0.491, 0.506, 0.43...</td>\n",
              "      <td>[0.7718333333333334, 0.759, 0.6705, 0.66683333...</td>\n",
              "    </tr>\n",
              "    <tr>\n",
              "      <th>DTS6</th>\n",
              "      <td>[0.0003333333333333333, 0.035833333333333335, ...</td>\n",
              "      <td>[0.002, 0.03166666666666667, 0.095, 0.1265, 0....</td>\n",
              "      <td>[0.0, 0.03666666666666667, 0.1, 0.136666666666...</td>\n",
              "      <td>[0.018000000000000002, 0.065, 0.10300000000000...</td>\n",
              "      <td>[0.13649999999999998, 0.11466666666666667, 0.0...</td>\n",
              "      <td>[0.07766666666666668, 0.04083333333333334, 0.0...</td>\n",
              "      <td>[0.11216666666666668, 0.10733333333333332, 0.0...</td>\n",
              "      <td>[0.07766666666666668, 0.04083333333333334, 0.0...</td>\n",
              "      <td>[0.23916666666666667, 0.20199999999999999, 0.1...</td>\n",
              "      <td>[0.04483333333333333, 0.029833333333333333, 0....</td>\n",
              "      <td>[0.2338333333333333, 0.196, 0.123, 0.084166666...</td>\n",
              "      <td>[0.0008333333333333334, 0.033666666666666664, ...</td>\n",
              "      <td>[0.0, 0.03666666666666667, 0.1, 0.135666666666...</td>\n",
              "      <td>[0.010666666666666666, 0.037333333333333336, 0...</td>\n",
              "      <td>[0.010833333333333334, 0.0475, 0.099, 0.136499...</td>\n",
              "      <td>[0.006833333333333334, 0.03783333333333334, 0....</td>\n",
              "      <td>[0.0, 0.03666666666666667, 0.09866666666666667...</td>\n",
              "      <td>[0.0033333333333333335, 0.03666666666666667, 0...</td>\n",
              "    </tr>\n",
              "  </tbody>\n",
              "</table>\n",
              "</div>"
            ],
            "text/plain": [
              "                                                 CC_npt  \\\n",
              "DTS1  [0.3173333333333333, 0.289, 0.2773333333333333...   \n",
              "DTS2  [0.19433333333333333, 0.17750000000000002, 0.1...   \n",
              "DTS3  [0.08033333333333334, 0.06833333333333334, 0.0...   \n",
              "DTS4  [0.9543333333333333, 0.9178333333333334, 0.857...   \n",
              "DTS5  [0.5796666666666667, 0.5536666666666666, 0.504...   \n",
              "DTS6  [0.0003333333333333333, 0.035833333333333335, ...   \n",
              "\n",
              "                                                  CC_pt  \\\n",
              "DTS1  [0.085, 0.06933333333333333, 0.048000000000000...   \n",
              "DTS2  [0.09533333333333334, 0.07816666666666668, 0.0...   \n",
              "DTS3  [0.0, 0.03666666666666667, 0.1, 0.136666666666...   \n",
              "DTS4  [0.04700000000000001, 0.026333333333333334, 0....   \n",
              "DTS5  [0.04700000000000001, 0.026333333333333334, 0....   \n",
              "DTS6  [0.002, 0.03166666666666667, 0.095, 0.1265, 0....   \n",
              "\n",
              "                                                ACC_npt  \\\n",
              "DTS1  [0.44166666666666665, 0.42833333333333334, 0.4...   \n",
              "DTS2  [0.18233333333333332, 0.17600000000000002, 0.1...   \n",
              "DTS3  [0.14366666666666666, 0.15933333333333335, 0.2...   \n",
              "DTS4  [1.0, 0.9633333333333333, 0.9, 0.8633333333333...   \n",
              "DTS5  [0.5796666666666667, 0.5536666666666666, 0.504...   \n",
              "DTS6  [0.0, 0.03666666666666667, 0.1, 0.136666666666...   \n",
              "\n",
              "                                                 ACC_pt  \\\n",
              "DTS1  [0.056666666666666664, 0.0505, 0.0565, 0.07050...   \n",
              "DTS2  [0.009833333333333333, 0.03233333333333333, 0....   \n",
              "DTS3  [0.0, 0.03666666666666667, 0.1, 0.136666666666...   \n",
              "DTS4  [0.18800000000000003, 0.17666666666666667, 0.1...   \n",
              "DTS5  [0.18800000000000003, 0.17666666666666667, 0.1...   \n",
              "DTS6  [0.018000000000000002, 0.065, 0.10300000000000...   \n",
              "\n",
              "                                                  X_npt  \\\n",
              "DTS1  [0.3491666666666667, 0.35700000000000004, 0.38...   \n",
              "DTS2  [0.29433333333333334, 0.2515, 0.25933333333333...   \n",
              "DTS3  [0.15783333333333335, 0.14816666666666667, 0.1...   \n",
              "DTS4  [1.0, 0.9633333333333333, 0.9, 0.8633333333333...   \n",
              "DTS5  [0.5980000000000001, 0.5743333333333334, 0.527...   \n",
              "DTS6  [0.13649999999999998, 0.11466666666666667, 0.0...   \n",
              "\n",
              "                                                   X_pt  \\\n",
              "DTS1  [0.0635, 0.050833333333333335, 0.0523333333333...   \n",
              "DTS2  [0.0275, 0.021500000000000002, 0.0504999999999...   \n",
              "DTS3  [0.36000000000000004, 0.33249999999999996, 0.2...   \n",
              "DTS4  [0.8408333333333334, 0.8276666666666667, 0.752...   \n",
              "DTS5  [0.8408333333333334, 0.8276666666666667, 0.752...   \n",
              "DTS6  [0.07766666666666668, 0.04083333333333334, 0.0...   \n",
              "\n",
              "                                                MAX_npt  \\\n",
              "DTS1  [0.3745, 0.38666666666666666, 0.40133333333333...   \n",
              "DTS2  [0.29533333333333334, 0.2506666666666667, 0.25...   \n",
              "DTS3  [0.13616666666666666, 0.128, 0.126, 0.12250000...   \n",
              "DTS4  [1.0, 0.9633333333333333, 0.9, 0.8633333333333...   \n",
              "DTS5  [0.5980000000000001, 0.5743333333333334, 0.527...   \n",
              "DTS6  [0.11216666666666668, 0.10733333333333332, 0.0...   \n",
              "\n",
              "                                                 MAX_pt  \\\n",
              "DTS1  [0.08466666666666667, 0.07433333333333333, 0.0...   \n",
              "DTS2  [0.014166666666666666, 0.020833333333333332, 0...   \n",
              "DTS3  [0.218, 0.20633333333333334, 0.126166666666666...   \n",
              "DTS4  [0.8408333333333334, 0.8276666666666667, 0.752...   \n",
              "DTS5  [0.8408333333333334, 0.8276666666666667, 0.752...   \n",
              "DTS6  [0.07766666666666668, 0.04083333333333334, 0.0...   \n",
              "\n",
              "                                                T50_npt  \\\n",
              "DTS1  [0.5118333333333334, 0.5003333333333333, 0.534...   \n",
              "DTS2  [0.04666666666666667, 0.06949999999999999, 0.1...   \n",
              "DTS3  [0.17116666666666666, 0.18316666666666667, 0.2...   \n",
              "DTS4  [1.0, 0.9633333333333333, 0.9, 0.8633333333333...   \n",
              "DTS5  [0.854, 0.8428333333333333, 0.8093333333333333...   \n",
              "DTS6  [0.23916666666666667, 0.20199999999999999, 0.1...   \n",
              "\n",
              "                                                 T50_pt  \\\n",
              "DTS1  [0.024666666666666667, 0.029500000000000002, 0...   \n",
              "DTS2  [0.0, 0.03666666666666667, 0.1, 0.136666666666...   \n",
              "DTS3  [0.025333333333333333, 0.030833333333333334, 0...   \n",
              "DTS4  [0.7648333333333334, 0.7390000000000001, 0.691...   \n",
              "DTS5  [0.7648333333333334, 0.7390000000000001, 0.691...   \n",
              "DTS6  [0.04483333333333333, 0.029833333333333333, 0....   \n",
              "\n",
              "                                                 MS_npt  \\\n",
              "DTS1  [0.45883333333333337, 0.46049999999999996, 0.5...   \n",
              "DTS2  [0.19749999999999998, 0.18433333333333335, 0.2...   \n",
              "DTS3  [0.16316666666666668, 0.2006666666666667, 0.32...   \n",
              "DTS4  [1.0, 0.9633333333333333, 0.9, 0.8633333333333...   \n",
              "DTS5  [0.5638333333333333, 0.5351666666666667, 0.494...   \n",
              "DTS6  [0.2338333333333333, 0.196, 0.123, 0.084166666...   \n",
              "\n",
              "                                                  MS_pt  \\\n",
              "DTS1  [0.048666666666666664, 0.030000000000000002, 0...   \n",
              "DTS2  [0.039, 0.024666666666666667, 0.0445, 0.061166...   \n",
              "DTS3  [0.0, 0.03666666666666667, 0.1, 0.136666666666...   \n",
              "DTS4  [0.18283333333333335, 0.1905, 0.17983333333333...   \n",
              "DTS5  [0.18283333333333335, 0.1905, 0.17983333333333...   \n",
              "DTS6  [0.0008333333333333334, 0.033666666666666664, ...   \n",
              "\n",
              "                                                DyS_npt  \\\n",
              "DTS1  [0.4186666666666667, 0.46166666666666667, 0.47...   \n",
              "DTS2  [0.186, 0.218, 0.2793333333333334, 0.288833333...   \n",
              "DTS3  [0.12383333333333332, 0.12116666666666667, 0.1...   \n",
              "DTS4  [0.9966666666666666, 0.9633333333333333, 0.894...   \n",
              "DTS5  [0.5566666666666666, 0.5378333333333334, 0.497...   \n",
              "DTS6  [0.0, 0.03666666666666667, 0.1, 0.135666666666...   \n",
              "\n",
              "                                                 DyS_pt  \\\n",
              "DTS1  [0.054000000000000006, 0.04416666666666667, 0....   \n",
              "DTS2  [0.007333333333333333, 0.030833333333333334, 0...   \n",
              "DTS3  [0.26966666666666667, 0.2545, 0.19083333333333...   \n",
              "DTS4  [0.5996666666666666, 0.6138333333333333, 0.531...   \n",
              "DTS5  [0.5996666666666666, 0.6138333333333333, 0.531...   \n",
              "DTS6  [0.010666666666666666, 0.037333333333333336, 0...   \n",
              "\n",
              "                                                HDy_npt  \\\n",
              "DTS1  [0.3496666666666667, 0.41133333333333333, 0.41...   \n",
              "DTS2  [0.17300000000000001, 0.22733333333333333, 0.3...   \n",
              "DTS3  [0.07466666666666667, 0.058833333333333335, 0....   \n",
              "DTS4  [0.995, 0.9623333333333333, 0.891, 0.860166666...   \n",
              "DTS5  [0.2311666666666667, 0.23933333333333331, 0.20...   \n",
              "DTS6  [0.010833333333333334, 0.0475, 0.099, 0.136499...   \n",
              "\n",
              "                                                 HDy_pt  \\\n",
              "DTS1  [0.030166666666666668, 0.028, 0.0615, 0.0935, ...   \n",
              "DTS2  [0.016, 0.03233333333333333, 0.076166666666666...   \n",
              "DTS3  [0.19933333333333333, 0.19183333333333333, 0.1...   \n",
              "DTS4  [0.7461666666666668, 0.7513333333333333, 0.653...   \n",
              "DTS5  [0.7461666666666668, 0.7513333333333333, 0.653...   \n",
              "DTS6  [0.006833333333333334, 0.03783333333333334, 0....   \n",
              "\n",
              "                                               SORD_npt  \\\n",
              "DTS1  [0.3895, 0.39516666666666667, 0.43416666666666...   \n",
              "DTS2  [0.19833333333333333, 0.1825, 0.19966666666666...   \n",
              "DTS3  [0.14383333333333334, 0.16233333333333333, 0.2...   \n",
              "DTS4  [1.0, 0.9633333333333333, 0.9, 0.8633333333333...   \n",
              "DTS5  [0.5589999999999999, 0.531, 0.491, 0.506, 0.43...   \n",
              "DTS6  [0.0, 0.03666666666666667, 0.09866666666666667...   \n",
              "\n",
              "                                                SORD_pt  \n",
              "DTS1  [0.06133333333333334, 0.04133333333333333, 0.0...  \n",
              "DTS2  [0.008166666666666666, 0.025166666666666667, 0...  \n",
              "DTS3  [0.34349999999999997, 0.32566666666666666, 0.2...  \n",
              "DTS4  [0.7718333333333334, 0.759, 0.6705, 0.66683333...  \n",
              "DTS5  [0.7718333333333334, 0.759, 0.6705, 0.66683333...  \n",
              "DTS6  [0.0033333333333333335, 0.03666666666666667, 0...  "
            ]
          },
          "execution_count": 40,
          "metadata": {},
          "output_type": "execute_result"
        }
      ],
      "source": [
        "resnet50_abs"
      ]
    },
    {
      "cell_type": "code",
      "execution_count": 41,
      "metadata": {
        "colab": {
          "base_uri": "https://localhost:8080/",
          "height": 465
        },
        "id": "zCAhp-kTz3UL",
        "outputId": "e2a7470d-0467-4354-9b1f-f3cfd13d1aae"
      },
      "outputs": [
        {
          "data": {
            "text/html": [
              "<div>\n",
              "<style scoped>\n",
              "    .dataframe tbody tr th:only-of-type {\n",
              "        vertical-align: middle;\n",
              "    }\n",
              "\n",
              "    .dataframe tbody tr th {\n",
              "        vertical-align: top;\n",
              "    }\n",
              "\n",
              "    .dataframe thead th {\n",
              "        text-align: right;\n",
              "    }\n",
              "</style>\n",
              "<table border=\"1\" class=\"dataframe\">\n",
              "  <thead>\n",
              "    <tr style=\"text-align: right;\">\n",
              "      <th></th>\n",
              "      <th>CC_npt</th>\n",
              "      <th>CC_pt</th>\n",
              "      <th>ACC_npt</th>\n",
              "      <th>ACC_pt</th>\n",
              "      <th>X_npt</th>\n",
              "      <th>X_pt</th>\n",
              "      <th>MAX_npt</th>\n",
              "      <th>MAX_pt</th>\n",
              "      <th>T50_npt</th>\n",
              "      <th>T50_pt</th>\n",
              "      <th>MS_npt</th>\n",
              "      <th>MS_pt</th>\n",
              "      <th>DyS_npt</th>\n",
              "      <th>DyS_pt</th>\n",
              "      <th>HDy_npt</th>\n",
              "      <th>HDy_pt</th>\n",
              "      <th>SORD_npt</th>\n",
              "      <th>SORD_pt</th>\n",
              "    </tr>\n",
              "  </thead>\n",
              "  <tbody>\n",
              "    <tr>\n",
              "      <th>DTS1</th>\n",
              "      <td>[0.0415, 0.023000000000000003, 0.0535, 0.08383...</td>\n",
              "      <td>[0.043333333333333335, 0.05633333333333334, 0....</td>\n",
              "      <td>[0.0015, 0.04383333333333333, 0.10600000000000...</td>\n",
              "      <td>[0.029666666666666668, 0.04616666666666667, 0....</td>\n",
              "      <td>[0.41833333333333333, 0.4633333333333333, 0.33...</td>\n",
              "      <td>[0.044000000000000004, 0.0535, 0.05, 0.048, 0....</td>\n",
              "      <td>[0.5716666666666667, 0.5178333333333334, 0.410...</td>\n",
              "      <td>[0.06966666666666667, 0.08650000000000001, 0.0...</td>\n",
              "      <td>[0.44166666666666665, 0.446, 0.349833333333333...</td>\n",
              "      <td>[0.0, 0.025, 0.061000000000000006, 0.058666666...</td>\n",
              "      <td>[0.17416666666666666, 0.16533333333333333, 0.1...</td>\n",
              "      <td>[0.034166666666666665, 0.04883333333333333, 0....</td>\n",
              "      <td>[0.0085, 0.044000000000000004, 0.1030000000000...</td>\n",
              "      <td>[0.010333333333333333, 0.024166666666666666, 0...</td>\n",
              "      <td>[0.0145, 0.04516666666666667, 0.10149999999999...</td>\n",
              "      <td>[0.018166666666666668, 0.01983333333333333, 0....</td>\n",
              "      <td>[0.027166666666666665, 0.04933333333333333, 0....</td>\n",
              "      <td>[0.0355, 0.0525, 0.04633333333333333, 0.042333...</td>\n",
              "    </tr>\n",
              "    <tr>\n",
              "      <th>DTS2</th>\n",
              "      <td>[0.03133333333333334, 0.02766666666666667, 0.0...</td>\n",
              "      <td>[0.249, 0.24566666666666667, 0.235833333333333...</td>\n",
              "      <td>[0.034, 0.0555, 0.053000000000000005, 0.089166...</td>\n",
              "      <td>[0.21816666666666668, 0.21533333333333332, 0.2...</td>\n",
              "      <td>[0.2006666666666667, 0.20433333333333334, 0.18...</td>\n",
              "      <td>[0.20433333333333334, 0.20683333333333334, 0.1...</td>\n",
              "      <td>[0.105, 0.12033333333333335, 0.108000000000000...</td>\n",
              "      <td>[0.228, 0.22383333333333333, 0.217333333333333...</td>\n",
              "      <td>[0.04583333333333333, 0.05983333333333333, 0.0...</td>\n",
              "      <td>[0.0, 0.028166666666666666, 0.0615, 0.071, 0.0...</td>\n",
              "      <td>[0.0315, 0.05333333333333334, 0.05516666666666...</td>\n",
              "      <td>[0.2275, 0.2265, 0.21766666666666667, 0.190333...</td>\n",
              "      <td>[0.028833333333333332, 0.053000000000000005, 0...</td>\n",
              "      <td>[0.11433333333333334, 0.17466666666666666, 0.2...</td>\n",
              "      <td>[0.012333333333333333, 0.043166666666666666, 0...</td>\n",
              "      <td>[0.09000000000000001, 0.182, 0.258666666666666...</td>\n",
              "      <td>[0.0315, 0.07050000000000001, 0.06333333333333...</td>\n",
              "      <td>[0.22416666666666668, 0.22383333333333333, 0.2...</td>\n",
              "    </tr>\n",
              "    <tr>\n",
              "      <th>DTS3</th>\n",
              "      <td>[0.0, 0.03666666666666667, 0.1, 0.136666666666...</td>\n",
              "      <td>[0.7956666666666667, 0.7415, 0.709, 0.67483333...</td>\n",
              "      <td>[0.0, 0.03666666666666667, 0.1, 0.136666666666...</td>\n",
              "      <td>[0.9866666666666667, 0.94, 0.8843333333333334,...</td>\n",
              "      <td>[1.0, 0.9633333333333333, 0.9, 0.8633333333333...</td>\n",
              "      <td>[1.0, 0.9618333333333333, 0.8996666666666667, ...</td>\n",
              "      <td>[0.219, 0.19333333333333333, 0.128, 0.117, 0.1...</td>\n",
              "      <td>[1.0, 0.9633333333333333, 0.9, 0.8633333333333...</td>\n",
              "      <td>[1.0, 0.9633333333333333, 0.9, 0.8633333333333...</td>\n",
              "      <td>[0.9616666666666667, 0.9073333333333333, 0.881...</td>\n",
              "      <td>[0.0, 0.03666666666666667, 0.1, 0.136666666666...</td>\n",
              "      <td>[0.9973333333333334, 0.9535, 0.896833333333333...</td>\n",
              "      <td>[0.6223333333333334, 0.6395, 0.580666666666666...</td>\n",
              "      <td>[0.9956666666666667, 0.9588333333333333, 0.895...</td>\n",
              "      <td>[0.4741666666666667, 0.43233333333333335, 0.36...</td>\n",
              "      <td>[0.9861666666666667, 0.9484999999999999, 0.885...</td>\n",
              "      <td>[0.084, 0.1285, 0.12233333333333334, 0.1335, 0...</td>\n",
              "      <td>[1.0, 0.9616666666666666, 0.8986666666666667, ...</td>\n",
              "    </tr>\n",
              "    <tr>\n",
              "      <th>DTS4</th>\n",
              "      <td>[0.0, 0.03666666666666667, 0.1, 0.136666666666...</td>\n",
              "      <td>[0.2685, 0.269, 0.23933333333333331, 0.2271666...</td>\n",
              "      <td>[0.0, 0.03666666666666667, 0.1, 0.136666666666...</td>\n",
              "      <td>[0.3458333333333333, 0.3611666666666667, 0.344...</td>\n",
              "      <td>[1.0, 0.9633333333333333, 0.9, 0.8633333333333...</td>\n",
              "      <td>[0.37283333333333335, 0.37883333333333336, 0.3...</td>\n",
              "      <td>[0.0, 0.03666666666666667, 0.1, 0.136666666666...</td>\n",
              "      <td>[0.37066666666666664, 0.3825, 0.333, 0.335, 0....</td>\n",
              "      <td>[1.0, 0.9633333333333333, 0.9, 0.8633333333333...</td>\n",
              "      <td>[0.25683333333333336, 0.2856666666666667, 0.24...</td>\n",
              "      <td>[0.0, 0.03666666666666667, 0.1, 0.136666666666...</td>\n",
              "      <td>[0.303, 0.3218333333333333, 0.3026666666666667...</td>\n",
              "      <td>[1.0, 0.9633333333333333, 0.9, 0.8633333333333...</td>\n",
              "      <td>[0.33866666666666667, 0.3528333333333334, 0.32...</td>\n",
              "      <td>[0.15016666666666667, 0.10516666666666667, 0.0...</td>\n",
              "      <td>[0.30483333333333335, 0.31316666666666665, 0.2...</td>\n",
              "      <td>[0.0, 0.03666666666666667, 0.1, 0.136666666666...</td>\n",
              "      <td>[0.34600000000000003, 0.35366666666666663, 0.3...</td>\n",
              "    </tr>\n",
              "    <tr>\n",
              "      <th>DTS5</th>\n",
              "      <td>[1.0, 0.9633333333333333, 0.9, 0.8633333333333...</td>\n",
              "      <td>[0.2685, 0.269, 0.23933333333333331, 0.2271666...</td>\n",
              "      <td>[1.0, 0.9633333333333333, 0.9, 0.8633333333333...</td>\n",
              "      <td>[0.3458333333333333, 0.3611666666666667, 0.344...</td>\n",
              "      <td>[1.0, 0.9633333333333333, 0.9, 0.8633333333333...</td>\n",
              "      <td>[0.37283333333333335, 0.37883333333333336, 0.3...</td>\n",
              "      <td>[1.0, 0.9633333333333333, 0.9, 0.8633333333333...</td>\n",
              "      <td>[0.37066666666666664, 0.3825, 0.333, 0.335, 0....</td>\n",
              "      <td>[1.0, 0.9633333333333333, 0.9, 0.8633333333333...</td>\n",
              "      <td>[0.25683333333333336, 0.2856666666666667, 0.24...</td>\n",
              "      <td>[1.0, 0.9633333333333333, 0.9, 0.8633333333333...</td>\n",
              "      <td>[0.303, 0.3218333333333333, 0.3026666666666667...</td>\n",
              "      <td>[1.0, 0.9633333333333333, 0.9, 0.8633333333333...</td>\n",
              "      <td>[0.33866666666666667, 0.3528333333333334, 0.32...</td>\n",
              "      <td>[0.9978333333333332, 0.9606666666666667, 0.898...</td>\n",
              "      <td>[0.30483333333333335, 0.31316666666666665, 0.2...</td>\n",
              "      <td>[1.0, 0.9633333333333333, 0.9, 0.8633333333333...</td>\n",
              "      <td>[0.34600000000000003, 0.35366666666666663, 0.3...</td>\n",
              "    </tr>\n",
              "    <tr>\n",
              "      <th>DTS6</th>\n",
              "      <td>[0.0, 0.03666666666666667, 0.1, 0.136666666666...</td>\n",
              "      <td>[0.034, 0.03216666666666667, 0.054333333333333...</td>\n",
              "      <td>[0.0, 0.03666666666666667, 0.1, 0.136666666666...</td>\n",
              "      <td>[0.0018333333333333335, 0.03783333333333334, 0...</td>\n",
              "      <td>[0.9461666666666667, 0.8695, 0.767833333333333...</td>\n",
              "      <td>[0.05533333333333334, 0.035166666666666666, 0....</td>\n",
              "      <td>[0.99, 0.9566666666666667, 0.8983333333333333,...</td>\n",
              "      <td>[0.064, 0.03666666666666667, 0.049666666666666...</td>\n",
              "      <td>[0.9461666666666667, 0.8695, 0.767833333333333...</td>\n",
              "      <td>[0.08733333333333333, 0.04816666666666667, 0.0...</td>\n",
              "      <td>[0.0, 0.03666666666666667, 0.1, 0.136666666666...</td>\n",
              "      <td>[0.07050000000000001, 0.035166666666666666, 0....</td>\n",
              "      <td>[0.897, 0.8066666666666666, 0.8253333333333334...</td>\n",
              "      <td>[0.0005, 0.0365, 0.0965, 0.13016666666666668, ...</td>\n",
              "      <td>[0.8701666666666666, 0.7208333333333333, 0.790...</td>\n",
              "      <td>[0.0016666666666666668, 0.03816666666666667, 0...</td>\n",
              "      <td>[0.9734999999999999, 0.9209999999999999, 0.864...</td>\n",
              "      <td>[0.0008333333333333334, 0.037333333333333336, ...</td>\n",
              "    </tr>\n",
              "  </tbody>\n",
              "</table>\n",
              "</div>"
            ],
            "text/plain": [
              "                                                 CC_npt  \\\n",
              "DTS1  [0.0415, 0.023000000000000003, 0.0535, 0.08383...   \n",
              "DTS2  [0.03133333333333334, 0.02766666666666667, 0.0...   \n",
              "DTS3  [0.0, 0.03666666666666667, 0.1, 0.136666666666...   \n",
              "DTS4  [0.0, 0.03666666666666667, 0.1, 0.136666666666...   \n",
              "DTS5  [1.0, 0.9633333333333333, 0.9, 0.8633333333333...   \n",
              "DTS6  [0.0, 0.03666666666666667, 0.1, 0.136666666666...   \n",
              "\n",
              "                                                  CC_pt  \\\n",
              "DTS1  [0.043333333333333335, 0.05633333333333334, 0....   \n",
              "DTS2  [0.249, 0.24566666666666667, 0.235833333333333...   \n",
              "DTS3  [0.7956666666666667, 0.7415, 0.709, 0.67483333...   \n",
              "DTS4  [0.2685, 0.269, 0.23933333333333331, 0.2271666...   \n",
              "DTS5  [0.2685, 0.269, 0.23933333333333331, 0.2271666...   \n",
              "DTS6  [0.034, 0.03216666666666667, 0.054333333333333...   \n",
              "\n",
              "                                                ACC_npt  \\\n",
              "DTS1  [0.0015, 0.04383333333333333, 0.10600000000000...   \n",
              "DTS2  [0.034, 0.0555, 0.053000000000000005, 0.089166...   \n",
              "DTS3  [0.0, 0.03666666666666667, 0.1, 0.136666666666...   \n",
              "DTS4  [0.0, 0.03666666666666667, 0.1, 0.136666666666...   \n",
              "DTS5  [1.0, 0.9633333333333333, 0.9, 0.8633333333333...   \n",
              "DTS6  [0.0, 0.03666666666666667, 0.1, 0.136666666666...   \n",
              "\n",
              "                                                 ACC_pt  \\\n",
              "DTS1  [0.029666666666666668, 0.04616666666666667, 0....   \n",
              "DTS2  [0.21816666666666668, 0.21533333333333332, 0.2...   \n",
              "DTS3  [0.9866666666666667, 0.94, 0.8843333333333334,...   \n",
              "DTS4  [0.3458333333333333, 0.3611666666666667, 0.344...   \n",
              "DTS5  [0.3458333333333333, 0.3611666666666667, 0.344...   \n",
              "DTS6  [0.0018333333333333335, 0.03783333333333334, 0...   \n",
              "\n",
              "                                                  X_npt  \\\n",
              "DTS1  [0.41833333333333333, 0.4633333333333333, 0.33...   \n",
              "DTS2  [0.2006666666666667, 0.20433333333333334, 0.18...   \n",
              "DTS3  [1.0, 0.9633333333333333, 0.9, 0.8633333333333...   \n",
              "DTS4  [1.0, 0.9633333333333333, 0.9, 0.8633333333333...   \n",
              "DTS5  [1.0, 0.9633333333333333, 0.9, 0.8633333333333...   \n",
              "DTS6  [0.9461666666666667, 0.8695, 0.767833333333333...   \n",
              "\n",
              "                                                   X_pt  \\\n",
              "DTS1  [0.044000000000000004, 0.0535, 0.05, 0.048, 0....   \n",
              "DTS2  [0.20433333333333334, 0.20683333333333334, 0.1...   \n",
              "DTS3  [1.0, 0.9618333333333333, 0.8996666666666667, ...   \n",
              "DTS4  [0.37283333333333335, 0.37883333333333336, 0.3...   \n",
              "DTS5  [0.37283333333333335, 0.37883333333333336, 0.3...   \n",
              "DTS6  [0.05533333333333334, 0.035166666666666666, 0....   \n",
              "\n",
              "                                                MAX_npt  \\\n",
              "DTS1  [0.5716666666666667, 0.5178333333333334, 0.410...   \n",
              "DTS2  [0.105, 0.12033333333333335, 0.108000000000000...   \n",
              "DTS3  [0.219, 0.19333333333333333, 0.128, 0.117, 0.1...   \n",
              "DTS4  [0.0, 0.03666666666666667, 0.1, 0.136666666666...   \n",
              "DTS5  [1.0, 0.9633333333333333, 0.9, 0.8633333333333...   \n",
              "DTS6  [0.99, 0.9566666666666667, 0.8983333333333333,...   \n",
              "\n",
              "                                                 MAX_pt  \\\n",
              "DTS1  [0.06966666666666667, 0.08650000000000001, 0.0...   \n",
              "DTS2  [0.228, 0.22383333333333333, 0.217333333333333...   \n",
              "DTS3  [1.0, 0.9633333333333333, 0.9, 0.8633333333333...   \n",
              "DTS4  [0.37066666666666664, 0.3825, 0.333, 0.335, 0....   \n",
              "DTS5  [0.37066666666666664, 0.3825, 0.333, 0.335, 0....   \n",
              "DTS6  [0.064, 0.03666666666666667, 0.049666666666666...   \n",
              "\n",
              "                                                T50_npt  \\\n",
              "DTS1  [0.44166666666666665, 0.446, 0.349833333333333...   \n",
              "DTS2  [0.04583333333333333, 0.05983333333333333, 0.0...   \n",
              "DTS3  [1.0, 0.9633333333333333, 0.9, 0.8633333333333...   \n",
              "DTS4  [1.0, 0.9633333333333333, 0.9, 0.8633333333333...   \n",
              "DTS5  [1.0, 0.9633333333333333, 0.9, 0.8633333333333...   \n",
              "DTS6  [0.9461666666666667, 0.8695, 0.767833333333333...   \n",
              "\n",
              "                                                 T50_pt  \\\n",
              "DTS1  [0.0, 0.025, 0.061000000000000006, 0.058666666...   \n",
              "DTS2  [0.0, 0.028166666666666666, 0.0615, 0.071, 0.0...   \n",
              "DTS3  [0.9616666666666667, 0.9073333333333333, 0.881...   \n",
              "DTS4  [0.25683333333333336, 0.2856666666666667, 0.24...   \n",
              "DTS5  [0.25683333333333336, 0.2856666666666667, 0.24...   \n",
              "DTS6  [0.08733333333333333, 0.04816666666666667, 0.0...   \n",
              "\n",
              "                                                 MS_npt  \\\n",
              "DTS1  [0.17416666666666666, 0.16533333333333333, 0.1...   \n",
              "DTS2  [0.0315, 0.05333333333333334, 0.05516666666666...   \n",
              "DTS3  [0.0, 0.03666666666666667, 0.1, 0.136666666666...   \n",
              "DTS4  [0.0, 0.03666666666666667, 0.1, 0.136666666666...   \n",
              "DTS5  [1.0, 0.9633333333333333, 0.9, 0.8633333333333...   \n",
              "DTS6  [0.0, 0.03666666666666667, 0.1, 0.136666666666...   \n",
              "\n",
              "                                                  MS_pt  \\\n",
              "DTS1  [0.034166666666666665, 0.04883333333333333, 0....   \n",
              "DTS2  [0.2275, 0.2265, 0.21766666666666667, 0.190333...   \n",
              "DTS3  [0.9973333333333334, 0.9535, 0.896833333333333...   \n",
              "DTS4  [0.303, 0.3218333333333333, 0.3026666666666667...   \n",
              "DTS5  [0.303, 0.3218333333333333, 0.3026666666666667...   \n",
              "DTS6  [0.07050000000000001, 0.035166666666666666, 0....   \n",
              "\n",
              "                                                DyS_npt  \\\n",
              "DTS1  [0.0085, 0.044000000000000004, 0.1030000000000...   \n",
              "DTS2  [0.028833333333333332, 0.053000000000000005, 0...   \n",
              "DTS3  [0.6223333333333334, 0.6395, 0.580666666666666...   \n",
              "DTS4  [1.0, 0.9633333333333333, 0.9, 0.8633333333333...   \n",
              "DTS5  [1.0, 0.9633333333333333, 0.9, 0.8633333333333...   \n",
              "DTS6  [0.897, 0.8066666666666666, 0.8253333333333334...   \n",
              "\n",
              "                                                 DyS_pt  \\\n",
              "DTS1  [0.010333333333333333, 0.024166666666666666, 0...   \n",
              "DTS2  [0.11433333333333334, 0.17466666666666666, 0.2...   \n",
              "DTS3  [0.9956666666666667, 0.9588333333333333, 0.895...   \n",
              "DTS4  [0.33866666666666667, 0.3528333333333334, 0.32...   \n",
              "DTS5  [0.33866666666666667, 0.3528333333333334, 0.32...   \n",
              "DTS6  [0.0005, 0.0365, 0.0965, 0.13016666666666668, ...   \n",
              "\n",
              "                                                HDy_npt  \\\n",
              "DTS1  [0.0145, 0.04516666666666667, 0.10149999999999...   \n",
              "DTS2  [0.012333333333333333, 0.043166666666666666, 0...   \n",
              "DTS3  [0.4741666666666667, 0.43233333333333335, 0.36...   \n",
              "DTS4  [0.15016666666666667, 0.10516666666666667, 0.0...   \n",
              "DTS5  [0.9978333333333332, 0.9606666666666667, 0.898...   \n",
              "DTS6  [0.8701666666666666, 0.7208333333333333, 0.790...   \n",
              "\n",
              "                                                 HDy_pt  \\\n",
              "DTS1  [0.018166666666666668, 0.01983333333333333, 0....   \n",
              "DTS2  [0.09000000000000001, 0.182, 0.258666666666666...   \n",
              "DTS3  [0.9861666666666667, 0.9484999999999999, 0.885...   \n",
              "DTS4  [0.30483333333333335, 0.31316666666666665, 0.2...   \n",
              "DTS5  [0.30483333333333335, 0.31316666666666665, 0.2...   \n",
              "DTS6  [0.0016666666666666668, 0.03816666666666667, 0...   \n",
              "\n",
              "                                               SORD_npt  \\\n",
              "DTS1  [0.027166666666666665, 0.04933333333333333, 0....   \n",
              "DTS2  [0.0315, 0.07050000000000001, 0.06333333333333...   \n",
              "DTS3  [0.084, 0.1285, 0.12233333333333334, 0.1335, 0...   \n",
              "DTS4  [0.0, 0.03666666666666667, 0.1, 0.136666666666...   \n",
              "DTS5  [1.0, 0.9633333333333333, 0.9, 0.8633333333333...   \n",
              "DTS6  [0.9734999999999999, 0.9209999999999999, 0.864...   \n",
              "\n",
              "                                                SORD_pt  \n",
              "DTS1  [0.0355, 0.0525, 0.04633333333333333, 0.042333...  \n",
              "DTS2  [0.22416666666666668, 0.22383333333333333, 0.2...  \n",
              "DTS3  [1.0, 0.9616666666666666, 0.8986666666666667, ...  \n",
              "DTS4  [0.34600000000000003, 0.35366666666666663, 0.3...  \n",
              "DTS5  [0.34600000000000003, 0.35366666666666663, 0.3...  \n",
              "DTS6  [0.0008333333333333334, 0.037333333333333336, ...  "
            ]
          },
          "execution_count": 41,
          "metadata": {},
          "output_type": "execute_result"
        }
      ],
      "source": [
        "vgg16_abs"
      ]
    },
    {
      "cell_type": "code",
      "execution_count": 42,
      "metadata": {
        "colab": {
          "base_uri": "https://localhost:8080/",
          "height": 237
        },
        "id": "37rphaRlzjMa",
        "outputId": "058ab5cb-01a0-401c-afea-8fb79f3d841a"
      },
      "outputs": [
        {
          "data": {
            "text/html": [
              "<div>\n",
              "<style scoped>\n",
              "    .dataframe tbody tr th:only-of-type {\n",
              "        vertical-align: middle;\n",
              "    }\n",
              "\n",
              "    .dataframe tbody tr th {\n",
              "        vertical-align: top;\n",
              "    }\n",
              "\n",
              "    .dataframe thead th {\n",
              "        text-align: right;\n",
              "    }\n",
              "</style>\n",
              "<table border=\"1\" class=\"dataframe\">\n",
              "  <thead>\n",
              "    <tr style=\"text-align: right;\">\n",
              "      <th></th>\n",
              "      <th>CC_npt</th>\n",
              "      <th>CC_pt</th>\n",
              "      <th>ACC_npt</th>\n",
              "      <th>ACC_pt</th>\n",
              "      <th>X_npt</th>\n",
              "      <th>X_pt</th>\n",
              "      <th>MAX_npt</th>\n",
              "      <th>MAX_pt</th>\n",
              "      <th>T50_npt</th>\n",
              "      <th>T50_pt</th>\n",
              "      <th>MS_npt</th>\n",
              "      <th>MS_pt</th>\n",
              "      <th>DyS_npt</th>\n",
              "      <th>DyS_pt</th>\n",
              "      <th>HDy_npt</th>\n",
              "      <th>HDy_pt</th>\n",
              "      <th>SORD_npt</th>\n",
              "      <th>SORD_pt</th>\n",
              "    </tr>\n",
              "  </thead>\n",
              "  <tbody>\n",
              "    <tr>\n",
              "      <th>DTS1</th>\n",
              "      <td>0.147</td>\n",
              "      <td>0.328</td>\n",
              "      <td>0.347</td>\n",
              "      <td>0.344</td>\n",
              "      <td>0.269</td>\n",
              "      <td>0.343</td>\n",
              "      <td>0.285</td>\n",
              "      <td>0.300</td>\n",
              "      <td>0.382</td>\n",
              "      <td>0.430</td>\n",
              "      <td>0.384</td>\n",
              "      <td>0.332</td>\n",
              "      <td>0.330</td>\n",
              "      <td>0.341</td>\n",
              "      <td>0.292</td>\n",
              "      <td>0.364</td>\n",
              "      <td>0.343</td>\n",
              "      <td>0.295</td>\n",
              "    </tr>\n",
              "    <tr>\n",
              "      <th>DTS2</th>\n",
              "      <td>0.094</td>\n",
              "      <td>0.159</td>\n",
              "      <td>0.182</td>\n",
              "      <td>0.206</td>\n",
              "      <td>0.193</td>\n",
              "      <td>0.282</td>\n",
              "      <td>0.193</td>\n",
              "      <td>0.327</td>\n",
              "      <td>0.235</td>\n",
              "      <td>0.494</td>\n",
              "      <td>0.215</td>\n",
              "      <td>0.206</td>\n",
              "      <td>0.232</td>\n",
              "      <td>0.378</td>\n",
              "      <td>0.243</td>\n",
              "      <td>0.386</td>\n",
              "      <td>0.203</td>\n",
              "      <td>0.298</td>\n",
              "    </tr>\n",
              "    <tr>\n",
              "      <th>DTS3</th>\n",
              "      <td>0.103</td>\n",
              "      <td>0.494</td>\n",
              "      <td>0.260</td>\n",
              "      <td>0.494</td>\n",
              "      <td>0.151</td>\n",
              "      <td>0.208</td>\n",
              "      <td>0.106</td>\n",
              "      <td>0.240</td>\n",
              "      <td>0.251</td>\n",
              "      <td>0.407</td>\n",
              "      <td>0.312</td>\n",
              "      <td>0.494</td>\n",
              "      <td>0.087</td>\n",
              "      <td>0.195</td>\n",
              "      <td>0.161</td>\n",
              "      <td>0.195</td>\n",
              "      <td>0.234</td>\n",
              "      <td>0.207</td>\n",
              "    </tr>\n",
              "    <tr>\n",
              "      <th>DTS4</th>\n",
              "      <td>0.481</td>\n",
              "      <td>0.361</td>\n",
              "      <td>0.506</td>\n",
              "      <td>0.187</td>\n",
              "      <td>0.506</td>\n",
              "      <td>0.455</td>\n",
              "      <td>0.506</td>\n",
              "      <td>0.455</td>\n",
              "      <td>0.506</td>\n",
              "      <td>0.435</td>\n",
              "      <td>0.506</td>\n",
              "      <td>0.199</td>\n",
              "      <td>0.505</td>\n",
              "      <td>0.352</td>\n",
              "      <td>0.504</td>\n",
              "      <td>0.417</td>\n",
              "      <td>0.506</td>\n",
              "      <td>0.426</td>\n",
              "    </tr>\n",
              "    <tr>\n",
              "      <th>DTS5</th>\n",
              "      <td>0.294</td>\n",
              "      <td>0.361</td>\n",
              "      <td>0.294</td>\n",
              "      <td>0.187</td>\n",
              "      <td>0.305</td>\n",
              "      <td>0.455</td>\n",
              "      <td>0.305</td>\n",
              "      <td>0.455</td>\n",
              "      <td>0.476</td>\n",
              "      <td>0.435</td>\n",
              "      <td>0.284</td>\n",
              "      <td>0.199</td>\n",
              "      <td>0.291</td>\n",
              "      <td>0.352</td>\n",
              "      <td>0.157</td>\n",
              "      <td>0.417</td>\n",
              "      <td>0.283</td>\n",
              "      <td>0.426</td>\n",
              "    </tr>\n",
              "    <tr>\n",
              "      <th>DTS6</th>\n",
              "      <td>0.490</td>\n",
              "      <td>0.463</td>\n",
              "      <td>0.494</td>\n",
              "      <td>0.294</td>\n",
              "      <td>0.277</td>\n",
              "      <td>0.245</td>\n",
              "      <td>0.268</td>\n",
              "      <td>0.245</td>\n",
              "      <td>0.327</td>\n",
              "      <td>0.283</td>\n",
              "      <td>0.335</td>\n",
              "      <td>0.359</td>\n",
              "      <td>0.467</td>\n",
              "      <td>0.206</td>\n",
              "      <td>0.404</td>\n",
              "      <td>0.219</td>\n",
              "      <td>0.490</td>\n",
              "      <td>0.213</td>\n",
              "    </tr>\n",
              "  </tbody>\n",
              "</table>\n",
              "</div>"
            ],
            "text/plain": [
              "      CC_npt  CC_pt  ACC_npt  ACC_pt  X_npt   X_pt  MAX_npt  MAX_pt  T50_npt  \\\n",
              "DTS1   0.147  0.328    0.347   0.344  0.269  0.343    0.285   0.300    0.382   \n",
              "DTS2   0.094  0.159    0.182   0.206  0.193  0.282    0.193   0.327    0.235   \n",
              "DTS3   0.103  0.494    0.260   0.494  0.151  0.208    0.106   0.240    0.251   \n",
              "DTS4   0.481  0.361    0.506   0.187  0.506  0.455    0.506   0.455    0.506   \n",
              "DTS5   0.294  0.361    0.294   0.187  0.305  0.455    0.305   0.455    0.476   \n",
              "DTS6   0.490  0.463    0.494   0.294  0.277  0.245    0.268   0.245    0.327   \n",
              "\n",
              "      T50_pt  MS_npt  MS_pt  DyS_npt  DyS_pt  HDy_npt  HDy_pt  SORD_npt  \\\n",
              "DTS1   0.430   0.384  0.332    0.330   0.341    0.292   0.364     0.343   \n",
              "DTS2   0.494   0.215  0.206    0.232   0.378    0.243   0.386     0.203   \n",
              "DTS3   0.407   0.312  0.494    0.087   0.195    0.161   0.195     0.234   \n",
              "DTS4   0.435   0.506  0.199    0.505   0.352    0.504   0.417     0.506   \n",
              "DTS5   0.435   0.284  0.199    0.291   0.352    0.157   0.417     0.283   \n",
              "DTS6   0.283   0.335  0.359    0.467   0.206    0.404   0.219     0.490   \n",
              "\n",
              "      SORD_pt  \n",
              "DTS1    0.295  \n",
              "DTS2    0.298  \n",
              "DTS3    0.207  \n",
              "DTS4    0.426  \n",
              "DTS5    0.426  \n",
              "DTS6    0.213  "
            ]
          },
          "execution_count": 42,
          "metadata": {},
          "output_type": "execute_result"
        }
      ],
      "source": [
        "resnet50_mae = mae_model(resnet50_abs)\n",
        "resnet50_mae.index = index\n",
        "resnet50_mae.round(3)"
      ]
    },
    {
      "cell_type": "code",
      "execution_count": 43,
      "metadata": {
        "colab": {
          "base_uri": "https://localhost:8080/",
          "height": 237
        },
        "id": "Cyi7tUyYz53d",
        "outputId": "ceba5ee8-d174-415d-991d-9de2e4592eb0"
      },
      "outputs": [
        {
          "data": {
            "text/html": [
              "<div>\n",
              "<style scoped>\n",
              "    .dataframe tbody tr th:only-of-type {\n",
              "        vertical-align: middle;\n",
              "    }\n",
              "\n",
              "    .dataframe tbody tr th {\n",
              "        vertical-align: top;\n",
              "    }\n",
              "\n",
              "    .dataframe thead th {\n",
              "        text-align: right;\n",
              "    }\n",
              "</style>\n",
              "<table border=\"1\" class=\"dataframe\">\n",
              "  <thead>\n",
              "    <tr style=\"text-align: right;\">\n",
              "      <th></th>\n",
              "      <th>CC_npt</th>\n",
              "      <th>CC_pt</th>\n",
              "      <th>ACC_npt</th>\n",
              "      <th>ACC_pt</th>\n",
              "      <th>X_npt</th>\n",
              "      <th>X_pt</th>\n",
              "      <th>MAX_npt</th>\n",
              "      <th>MAX_pt</th>\n",
              "      <th>T50_npt</th>\n",
              "      <th>T50_pt</th>\n",
              "      <th>MS_npt</th>\n",
              "      <th>MS_pt</th>\n",
              "      <th>DyS_npt</th>\n",
              "      <th>DyS_pt</th>\n",
              "      <th>HDy_npt</th>\n",
              "      <th>HDy_pt</th>\n",
              "      <th>SORD_npt</th>\n",
              "      <th>SORD_pt</th>\n",
              "    </tr>\n",
              "  </thead>\n",
              "  <tbody>\n",
              "    <tr>\n",
              "      <th>DTS1</th>\n",
              "      <td>0.406</td>\n",
              "      <td>0.046</td>\n",
              "      <td>0.411</td>\n",
              "      <td>0.041</td>\n",
              "      <td>0.375</td>\n",
              "      <td>0.040</td>\n",
              "      <td>0.325</td>\n",
              "      <td>0.048</td>\n",
              "      <td>0.382</td>\n",
              "      <td>0.114</td>\n",
              "      <td>0.410</td>\n",
              "      <td>0.038</td>\n",
              "      <td>0.398</td>\n",
              "      <td>0.031</td>\n",
              "      <td>0.410</td>\n",
              "      <td>0.038</td>\n",
              "      <td>0.402</td>\n",
              "      <td>0.038</td>\n",
              "    </tr>\n",
              "    <tr>\n",
              "      <th>DTS2</th>\n",
              "      <td>0.182</td>\n",
              "      <td>0.125</td>\n",
              "      <td>0.116</td>\n",
              "      <td>0.123</td>\n",
              "      <td>0.178</td>\n",
              "      <td>0.119</td>\n",
              "      <td>0.139</td>\n",
              "      <td>0.126</td>\n",
              "      <td>0.116</td>\n",
              "      <td>0.121</td>\n",
              "      <td>0.105</td>\n",
              "      <td>0.135</td>\n",
              "      <td>0.108</td>\n",
              "      <td>0.185</td>\n",
              "      <td>0.104</td>\n",
              "      <td>0.227</td>\n",
              "      <td>0.113</td>\n",
              "      <td>0.133</td>\n",
              "    </tr>\n",
              "    <tr>\n",
              "      <th>DTS3</th>\n",
              "      <td>0.494</td>\n",
              "      <td>0.394</td>\n",
              "      <td>0.494</td>\n",
              "      <td>0.502</td>\n",
              "      <td>0.506</td>\n",
              "      <td>0.506</td>\n",
              "      <td>0.208</td>\n",
              "      <td>0.506</td>\n",
              "      <td>0.506</td>\n",
              "      <td>0.499</td>\n",
              "      <td>0.494</td>\n",
              "      <td>0.506</td>\n",
              "      <td>0.395</td>\n",
              "      <td>0.500</td>\n",
              "      <td>0.233</td>\n",
              "      <td>0.489</td>\n",
              "      <td>0.207</td>\n",
              "      <td>0.506</td>\n",
              "    </tr>\n",
              "    <tr>\n",
              "      <th>DTS4</th>\n",
              "      <td>0.494</td>\n",
              "      <td>0.143</td>\n",
              "      <td>0.494</td>\n",
              "      <td>0.213</td>\n",
              "      <td>0.506</td>\n",
              "      <td>0.187</td>\n",
              "      <td>0.494</td>\n",
              "      <td>0.186</td>\n",
              "      <td>0.506</td>\n",
              "      <td>0.224</td>\n",
              "      <td>0.494</td>\n",
              "      <td>0.203</td>\n",
              "      <td>0.506</td>\n",
              "      <td>0.186</td>\n",
              "      <td>0.354</td>\n",
              "      <td>0.176</td>\n",
              "      <td>0.494</td>\n",
              "      <td>0.198</td>\n",
              "    </tr>\n",
              "    <tr>\n",
              "      <th>DTS5</th>\n",
              "      <td>0.506</td>\n",
              "      <td>0.143</td>\n",
              "      <td>0.506</td>\n",
              "      <td>0.213</td>\n",
              "      <td>0.506</td>\n",
              "      <td>0.187</td>\n",
              "      <td>0.506</td>\n",
              "      <td>0.186</td>\n",
              "      <td>0.506</td>\n",
              "      <td>0.224</td>\n",
              "      <td>0.506</td>\n",
              "      <td>0.203</td>\n",
              "      <td>0.506</td>\n",
              "      <td>0.186</td>\n",
              "      <td>0.503</td>\n",
              "      <td>0.176</td>\n",
              "      <td>0.506</td>\n",
              "      <td>0.198</td>\n",
              "    </tr>\n",
              "    <tr>\n",
              "      <th>DTS6</th>\n",
              "      <td>0.494</td>\n",
              "      <td>0.336</td>\n",
              "      <td>0.494</td>\n",
              "      <td>0.395</td>\n",
              "      <td>0.443</td>\n",
              "      <td>0.395</td>\n",
              "      <td>0.503</td>\n",
              "      <td>0.382</td>\n",
              "      <td>0.443</td>\n",
              "      <td>0.419</td>\n",
              "      <td>0.494</td>\n",
              "      <td>0.385</td>\n",
              "      <td>0.475</td>\n",
              "      <td>0.396</td>\n",
              "      <td>0.460</td>\n",
              "      <td>0.418</td>\n",
              "      <td>0.473</td>\n",
              "      <td>0.374</td>\n",
              "    </tr>\n",
              "  </tbody>\n",
              "</table>\n",
              "</div>"
            ],
            "text/plain": [
              "      CC_npt  CC_pt  ACC_npt  ACC_pt  X_npt   X_pt  MAX_npt  MAX_pt  T50_npt  \\\n",
              "DTS1   0.406  0.046    0.411   0.041  0.375  0.040    0.325   0.048    0.382   \n",
              "DTS2   0.182  0.125    0.116   0.123  0.178  0.119    0.139   0.126    0.116   \n",
              "DTS3   0.494  0.394    0.494   0.502  0.506  0.506    0.208   0.506    0.506   \n",
              "DTS4   0.494  0.143    0.494   0.213  0.506  0.187    0.494   0.186    0.506   \n",
              "DTS5   0.506  0.143    0.506   0.213  0.506  0.187    0.506   0.186    0.506   \n",
              "DTS6   0.494  0.336    0.494   0.395  0.443  0.395    0.503   0.382    0.443   \n",
              "\n",
              "      T50_pt  MS_npt  MS_pt  DyS_npt  DyS_pt  HDy_npt  HDy_pt  SORD_npt  \\\n",
              "DTS1   0.114   0.410  0.038    0.398   0.031    0.410   0.038     0.402   \n",
              "DTS2   0.121   0.105  0.135    0.108   0.185    0.104   0.227     0.113   \n",
              "DTS3   0.499   0.494  0.506    0.395   0.500    0.233   0.489     0.207   \n",
              "DTS4   0.224   0.494  0.203    0.506   0.186    0.354   0.176     0.494   \n",
              "DTS5   0.224   0.506  0.203    0.506   0.186    0.503   0.176     0.506   \n",
              "DTS6   0.419   0.494  0.385    0.475   0.396    0.460   0.418     0.473   \n",
              "\n",
              "      SORD_pt  \n",
              "DTS1    0.038  \n",
              "DTS2    0.133  \n",
              "DTS3    0.506  \n",
              "DTS4    0.198  \n",
              "DTS5    0.198  \n",
              "DTS6    0.374  "
            ]
          },
          "execution_count": 43,
          "metadata": {},
          "output_type": "execute_result"
        }
      ],
      "source": [
        "vgg16_mae = mae_model(vgg16_abs)\n",
        "vgg16_mae.index = index\n",
        "vgg16_mae.round(3)"
      ]
    },
    {
      "cell_type": "markdown",
      "metadata": {
        "id": "Cg5e9jWhv2eh"
      },
      "source": [
        "## ResNet50 and VGG16 best config"
      ]
    },
    {
      "cell_type": "code",
      "execution_count": 44,
      "metadata": {
        "colab": {
          "base_uri": "https://localhost:8080/",
          "height": 237
        },
        "id": "RRi6KB6RHyQb",
        "outputId": "dc802af8-ef5f-4d80-a9d2-f59adb6c9c65"
      },
      "outputs": [
        {
          "data": {
            "text/html": [
              "<div>\n",
              "<style scoped>\n",
              "    .dataframe tbody tr th:only-of-type {\n",
              "        vertical-align: middle;\n",
              "    }\n",
              "\n",
              "    .dataframe tbody tr th {\n",
              "        vertical-align: top;\n",
              "    }\n",
              "\n",
              "    .dataframe thead th {\n",
              "        text-align: right;\n",
              "    }\n",
              "</style>\n",
              "<table border=\"1\" class=\"dataframe\">\n",
              "  <thead>\n",
              "    <tr style=\"text-align: right;\">\n",
              "      <th></th>\n",
              "      <th>CC</th>\n",
              "      <th>ACC</th>\n",
              "      <th>X</th>\n",
              "      <th>MAX</th>\n",
              "      <th>T50</th>\n",
              "      <th>MS</th>\n",
              "      <th>DyS</th>\n",
              "      <th>HDy</th>\n",
              "      <th>SORD</th>\n",
              "    </tr>\n",
              "  </thead>\n",
              "  <tbody>\n",
              "    <tr>\n",
              "      <th>DTS1</th>\n",
              "      <td>[CC_npt, diff]</td>\n",
              "      <td>[ACC_pt, not_diff]</td>\n",
              "      <td>[X_npt, not_diff]</td>\n",
              "      <td>[MAX_npt, not_diff]</td>\n",
              "      <td>[T50_npt, not_diff]</td>\n",
              "      <td>[MS_pt, not_diff]</td>\n",
              "      <td>[DyS_npt, not_diff]</td>\n",
              "      <td>[HDy_npt, not_diff]</td>\n",
              "      <td>[SORD_pt, not_diff]</td>\n",
              "    </tr>\n",
              "    <tr>\n",
              "      <th>DTS2</th>\n",
              "      <td>[CC_npt, diff]</td>\n",
              "      <td>[ACC_npt, not_diff]</td>\n",
              "      <td>[X_npt, diff]</td>\n",
              "      <td>[MAX_npt, diff]</td>\n",
              "      <td>[T50_npt, diff]</td>\n",
              "      <td>[MS_pt, not_diff]</td>\n",
              "      <td>[DyS_npt, diff]</td>\n",
              "      <td>[HDy_npt, diff]</td>\n",
              "      <td>[SORD_npt, diff]</td>\n",
              "    </tr>\n",
              "    <tr>\n",
              "      <th>DTS3</th>\n",
              "      <td>[CC_npt, diff]</td>\n",
              "      <td>[ACC_npt, diff]</td>\n",
              "      <td>[X_npt, diff]</td>\n",
              "      <td>[MAX_npt, diff]</td>\n",
              "      <td>[T50_npt, diff]</td>\n",
              "      <td>[MS_npt, diff]</td>\n",
              "      <td>[DyS_npt, diff]</td>\n",
              "      <td>[HDy_npt, not_diff]</td>\n",
              "      <td>[SORD_pt, not_diff]</td>\n",
              "    </tr>\n",
              "    <tr>\n",
              "      <th>DTS4</th>\n",
              "      <td>[CC_pt, not_diff]</td>\n",
              "      <td>[ACC_pt, diff]</td>\n",
              "      <td>[X_pt, not_diff]</td>\n",
              "      <td>[MAX_pt, not_diff]</td>\n",
              "      <td>[T50_pt, not_diff]</td>\n",
              "      <td>[MS_pt, diff]</td>\n",
              "      <td>[DyS_pt, not_diff]</td>\n",
              "      <td>[HDy_pt, not_diff]</td>\n",
              "      <td>[SORD_pt, not_diff]</td>\n",
              "    </tr>\n",
              "    <tr>\n",
              "      <th>DTS5</th>\n",
              "      <td>[CC_npt, not_diff]</td>\n",
              "      <td>[ACC_pt, diff]</td>\n",
              "      <td>[X_npt, diff]</td>\n",
              "      <td>[MAX_npt, diff]</td>\n",
              "      <td>[T50_pt, not_diff]</td>\n",
              "      <td>[MS_pt, diff]</td>\n",
              "      <td>[DyS_npt, not_diff]</td>\n",
              "      <td>[HDy_npt, diff]</td>\n",
              "      <td>[SORD_npt, diff]</td>\n",
              "    </tr>\n",
              "    <tr>\n",
              "      <th>DTS6</th>\n",
              "      <td>[CC_pt, not_diff]</td>\n",
              "      <td>[ACC_pt, diff]</td>\n",
              "      <td>[X_pt, not_diff]</td>\n",
              "      <td>[MAX_pt, not_diff]</td>\n",
              "      <td>[T50_pt, not_diff]</td>\n",
              "      <td>[MS_npt, not_diff]</td>\n",
              "      <td>[DyS_pt, diff]</td>\n",
              "      <td>[HDy_pt, diff]</td>\n",
              "      <td>[SORD_pt, diff]</td>\n",
              "    </tr>\n",
              "  </tbody>\n",
              "</table>\n",
              "</div>"
            ],
            "text/plain": [
              "                      CC                  ACC                  X  \\\n",
              "DTS1      [CC_npt, diff]   [ACC_pt, not_diff]  [X_npt, not_diff]   \n",
              "DTS2      [CC_npt, diff]  [ACC_npt, not_diff]      [X_npt, diff]   \n",
              "DTS3      [CC_npt, diff]      [ACC_npt, diff]      [X_npt, diff]   \n",
              "DTS4   [CC_pt, not_diff]       [ACC_pt, diff]   [X_pt, not_diff]   \n",
              "DTS5  [CC_npt, not_diff]       [ACC_pt, diff]      [X_npt, diff]   \n",
              "DTS6   [CC_pt, not_diff]       [ACC_pt, diff]   [X_pt, not_diff]   \n",
              "\n",
              "                      MAX                  T50                  MS  \\\n",
              "DTS1  [MAX_npt, not_diff]  [T50_npt, not_diff]   [MS_pt, not_diff]   \n",
              "DTS2      [MAX_npt, diff]      [T50_npt, diff]   [MS_pt, not_diff]   \n",
              "DTS3      [MAX_npt, diff]      [T50_npt, diff]      [MS_npt, diff]   \n",
              "DTS4   [MAX_pt, not_diff]   [T50_pt, not_diff]       [MS_pt, diff]   \n",
              "DTS5      [MAX_npt, diff]   [T50_pt, not_diff]       [MS_pt, diff]   \n",
              "DTS6   [MAX_pt, not_diff]   [T50_pt, not_diff]  [MS_npt, not_diff]   \n",
              "\n",
              "                      DyS                  HDy                 SORD  \n",
              "DTS1  [DyS_npt, not_diff]  [HDy_npt, not_diff]  [SORD_pt, not_diff]  \n",
              "DTS2      [DyS_npt, diff]      [HDy_npt, diff]     [SORD_npt, diff]  \n",
              "DTS3      [DyS_npt, diff]  [HDy_npt, not_diff]  [SORD_pt, not_diff]  \n",
              "DTS4   [DyS_pt, not_diff]   [HDy_pt, not_diff]  [SORD_pt, not_diff]  \n",
              "DTS5  [DyS_npt, not_diff]      [HDy_npt, diff]     [SORD_npt, diff]  \n",
              "DTS6       [DyS_pt, diff]       [HDy_pt, diff]      [SORD_pt, diff]  "
            ]
          },
          "execution_count": 44,
          "metadata": {},
          "output_type": "execute_result"
        }
      ],
      "source": [
        "resnet50_best_abs = best_config_model(resnet50_abs, quantifiers)\n",
        "resnet50_best_abs.index = index\n",
        "resnet50_best_abs"
      ]
    },
    {
      "cell_type": "code",
      "execution_count": 45,
      "metadata": {
        "colab": {
          "base_uri": "https://localhost:8080/",
          "height": 237
        },
        "id": "NLjCkAF-Q1mO",
        "outputId": "6b74224a-cea9-43ba-d7a5-14bca853f0eb"
      },
      "outputs": [
        {
          "data": {
            "text/html": [
              "<div>\n",
              "<style scoped>\n",
              "    .dataframe tbody tr th:only-of-type {\n",
              "        vertical-align: middle;\n",
              "    }\n",
              "\n",
              "    .dataframe tbody tr th {\n",
              "        vertical-align: top;\n",
              "    }\n",
              "\n",
              "    .dataframe thead th {\n",
              "        text-align: right;\n",
              "    }\n",
              "</style>\n",
              "<table border=\"1\" class=\"dataframe\">\n",
              "  <thead>\n",
              "    <tr style=\"text-align: right;\">\n",
              "      <th></th>\n",
              "      <th>CC</th>\n",
              "      <th>ACC</th>\n",
              "      <th>X</th>\n",
              "      <th>MAX</th>\n",
              "      <th>T50</th>\n",
              "      <th>MS</th>\n",
              "      <th>DyS</th>\n",
              "      <th>HDy</th>\n",
              "      <th>SORD</th>\n",
              "    </tr>\n",
              "  </thead>\n",
              "  <tbody>\n",
              "    <tr>\n",
              "      <th>DTS1</th>\n",
              "      <td>[CC_pt, diff]</td>\n",
              "      <td>[ACC_pt, diff]</td>\n",
              "      <td>[X_pt, diff]</td>\n",
              "      <td>[MAX_pt, diff]</td>\n",
              "      <td>[T50_pt, diff]</td>\n",
              "      <td>[MS_pt, diff]</td>\n",
              "      <td>[DyS_pt, diff]</td>\n",
              "      <td>[HDy_pt, diff]</td>\n",
              "      <td>[SORD_pt, diff]</td>\n",
              "    </tr>\n",
              "    <tr>\n",
              "      <th>DTS2</th>\n",
              "      <td>[CC_pt, not_diff]</td>\n",
              "      <td>[ACC_npt, not_diff]</td>\n",
              "      <td>[X_pt, diff]</td>\n",
              "      <td>[MAX_pt, not_diff]</td>\n",
              "      <td>[T50_npt, not_diff]</td>\n",
              "      <td>[MS_npt, not_diff]</td>\n",
              "      <td>[DyS_npt, diff]</td>\n",
              "      <td>[HDy_npt, diff]</td>\n",
              "      <td>[SORD_npt, not_diff]</td>\n",
              "    </tr>\n",
              "    <tr>\n",
              "      <th>DTS3</th>\n",
              "      <td>[CC_pt, not_diff]</td>\n",
              "      <td>[ACC_npt, not_diff]</td>\n",
              "      <td>[X_pt, not_diff]</td>\n",
              "      <td>[MAX_npt, diff]</td>\n",
              "      <td>[T50_pt, not_diff]</td>\n",
              "      <td>[MS_npt, not_diff]</td>\n",
              "      <td>[DyS_npt, not_diff]</td>\n",
              "      <td>[HDy_npt, diff]</td>\n",
              "      <td>[SORD_npt, diff]</td>\n",
              "    </tr>\n",
              "    <tr>\n",
              "      <th>DTS4</th>\n",
              "      <td>[CC_pt, diff]</td>\n",
              "      <td>[ACC_pt, diff]</td>\n",
              "      <td>[X_pt, diff]</td>\n",
              "      <td>[MAX_pt, diff]</td>\n",
              "      <td>[T50_pt, diff]</td>\n",
              "      <td>[MS_pt, diff]</td>\n",
              "      <td>[DyS_pt, diff]</td>\n",
              "      <td>[HDy_pt, diff]</td>\n",
              "      <td>[SORD_pt, diff]</td>\n",
              "    </tr>\n",
              "    <tr>\n",
              "      <th>DTS5</th>\n",
              "      <td>[CC_pt, diff]</td>\n",
              "      <td>[ACC_pt, diff]</td>\n",
              "      <td>[X_pt, diff]</td>\n",
              "      <td>[MAX_pt, diff]</td>\n",
              "      <td>[T50_pt, diff]</td>\n",
              "      <td>[MS_pt, diff]</td>\n",
              "      <td>[DyS_pt, diff]</td>\n",
              "      <td>[HDy_pt, diff]</td>\n",
              "      <td>[SORD_pt, diff]</td>\n",
              "    </tr>\n",
              "    <tr>\n",
              "      <th>DTS6</th>\n",
              "      <td>[CC_pt, not_diff]</td>\n",
              "      <td>[ACC_pt, not_diff]</td>\n",
              "      <td>[X_pt, not_diff]</td>\n",
              "      <td>[MAX_pt, not_diff]</td>\n",
              "      <td>[T50_pt, not_diff]</td>\n",
              "      <td>[MS_pt, not_diff]</td>\n",
              "      <td>[DyS_pt, not_diff]</td>\n",
              "      <td>[HDy_pt, not_diff]</td>\n",
              "      <td>[SORD_pt, not_diff]</td>\n",
              "    </tr>\n",
              "  </tbody>\n",
              "</table>\n",
              "</div>"
            ],
            "text/plain": [
              "                     CC                  ACC                 X  \\\n",
              "DTS1      [CC_pt, diff]       [ACC_pt, diff]      [X_pt, diff]   \n",
              "DTS2  [CC_pt, not_diff]  [ACC_npt, not_diff]      [X_pt, diff]   \n",
              "DTS3  [CC_pt, not_diff]  [ACC_npt, not_diff]  [X_pt, not_diff]   \n",
              "DTS4      [CC_pt, diff]       [ACC_pt, diff]      [X_pt, diff]   \n",
              "DTS5      [CC_pt, diff]       [ACC_pt, diff]      [X_pt, diff]   \n",
              "DTS6  [CC_pt, not_diff]   [ACC_pt, not_diff]  [X_pt, not_diff]   \n",
              "\n",
              "                     MAX                  T50                  MS  \\\n",
              "DTS1      [MAX_pt, diff]       [T50_pt, diff]       [MS_pt, diff]   \n",
              "DTS2  [MAX_pt, not_diff]  [T50_npt, not_diff]  [MS_npt, not_diff]   \n",
              "DTS3     [MAX_npt, diff]   [T50_pt, not_diff]  [MS_npt, not_diff]   \n",
              "DTS4      [MAX_pt, diff]       [T50_pt, diff]       [MS_pt, diff]   \n",
              "DTS5      [MAX_pt, diff]       [T50_pt, diff]       [MS_pt, diff]   \n",
              "DTS6  [MAX_pt, not_diff]   [T50_pt, not_diff]   [MS_pt, not_diff]   \n",
              "\n",
              "                      DyS                 HDy                  SORD  \n",
              "DTS1       [DyS_pt, diff]      [HDy_pt, diff]       [SORD_pt, diff]  \n",
              "DTS2      [DyS_npt, diff]     [HDy_npt, diff]  [SORD_npt, not_diff]  \n",
              "DTS3  [DyS_npt, not_diff]     [HDy_npt, diff]      [SORD_npt, diff]  \n",
              "DTS4       [DyS_pt, diff]      [HDy_pt, diff]       [SORD_pt, diff]  \n",
              "DTS5       [DyS_pt, diff]      [HDy_pt, diff]       [SORD_pt, diff]  \n",
              "DTS6   [DyS_pt, not_diff]  [HDy_pt, not_diff]   [SORD_pt, not_diff]  "
            ]
          },
          "execution_count": 45,
          "metadata": {},
          "output_type": "execute_result"
        }
      ],
      "source": [
        "vgg16_best_abs = best_config_model(vgg16_abs, quantifiers)\n",
        "vgg16_best_abs.index = index\n",
        "vgg16_best_abs"
      ]
    },
    {
      "cell_type": "code",
      "execution_count": 46,
      "metadata": {
        "colab": {
          "base_uri": "https://localhost:8080/",
          "height": 237
        },
        "id": "9jLNIS7hgZxN",
        "outputId": "c01d4f2f-068f-4236-a208-f7cf7454109d"
      },
      "outputs": [
        {
          "data": {
            "text/html": [
              "<div>\n",
              "<style scoped>\n",
              "    .dataframe tbody tr th:only-of-type {\n",
              "        vertical-align: middle;\n",
              "    }\n",
              "\n",
              "    .dataframe tbody tr th {\n",
              "        vertical-align: top;\n",
              "    }\n",
              "\n",
              "    .dataframe thead th {\n",
              "        text-align: right;\n",
              "    }\n",
              "</style>\n",
              "<table border=\"1\" class=\"dataframe\">\n",
              "  <thead>\n",
              "    <tr style=\"text-align: right;\">\n",
              "      <th></th>\n",
              "      <th>CC</th>\n",
              "      <th>ACC</th>\n",
              "      <th>X</th>\n",
              "      <th>MAX</th>\n",
              "      <th>T50</th>\n",
              "      <th>MS</th>\n",
              "      <th>DyS</th>\n",
              "      <th>HDy</th>\n",
              "      <th>SORD</th>\n",
              "    </tr>\n",
              "  </thead>\n",
              "  <tbody>\n",
              "    <tr>\n",
              "      <th>DTS1</th>\n",
              "      <td>0.146603</td>\n",
              "      <td>0.343802</td>\n",
              "      <td>0.269135</td>\n",
              "      <td>0.284548</td>\n",
              "      <td>0.382230</td>\n",
              "      <td>0.331556</td>\n",
              "      <td>0.330127</td>\n",
              "      <td>0.292063</td>\n",
              "      <td>0.294976</td>\n",
              "    </tr>\n",
              "    <tr>\n",
              "      <th>DTS2</th>\n",
              "      <td>0.094341</td>\n",
              "      <td>0.182000</td>\n",
              "      <td>0.193119</td>\n",
              "      <td>0.192746</td>\n",
              "      <td>0.234571</td>\n",
              "      <td>0.205952</td>\n",
              "      <td>0.231690</td>\n",
              "      <td>0.243254</td>\n",
              "      <td>0.203278</td>\n",
              "    </tr>\n",
              "    <tr>\n",
              "      <th>DTS3</th>\n",
              "      <td>0.102627</td>\n",
              "      <td>0.260111</td>\n",
              "      <td>0.150563</td>\n",
              "      <td>0.106262</td>\n",
              "      <td>0.251262</td>\n",
              "      <td>0.311683</td>\n",
              "      <td>0.086667</td>\n",
              "      <td>0.161421</td>\n",
              "      <td>0.206532</td>\n",
              "    </tr>\n",
              "    <tr>\n",
              "      <th>DTS4</th>\n",
              "      <td>0.361476</td>\n",
              "      <td>0.187175</td>\n",
              "      <td>0.455286</td>\n",
              "      <td>0.455286</td>\n",
              "      <td>0.435421</td>\n",
              "      <td>0.199421</td>\n",
              "      <td>0.352143</td>\n",
              "      <td>0.416722</td>\n",
              "      <td>0.425778</td>\n",
              "    </tr>\n",
              "    <tr>\n",
              "      <th>DTS5</th>\n",
              "      <td>0.293532</td>\n",
              "      <td>0.187175</td>\n",
              "      <td>0.304968</td>\n",
              "      <td>0.304968</td>\n",
              "      <td>0.435421</td>\n",
              "      <td>0.199421</td>\n",
              "      <td>0.290770</td>\n",
              "      <td>0.156683</td>\n",
              "      <td>0.282722</td>\n",
              "    </tr>\n",
              "    <tr>\n",
              "      <th>DTS6</th>\n",
              "      <td>0.462881</td>\n",
              "      <td>0.293722</td>\n",
              "      <td>0.244770</td>\n",
              "      <td>0.244770</td>\n",
              "      <td>0.282651</td>\n",
              "      <td>0.335190</td>\n",
              "      <td>0.205548</td>\n",
              "      <td>0.218635</td>\n",
              "      <td>0.212802</td>\n",
              "    </tr>\n",
              "  </tbody>\n",
              "</table>\n",
              "</div>"
            ],
            "text/plain": [
              "            CC       ACC         X       MAX       T50        MS       DyS  \\\n",
              "DTS1  0.146603  0.343802  0.269135  0.284548  0.382230  0.331556  0.330127   \n",
              "DTS2  0.094341  0.182000  0.193119  0.192746  0.234571  0.205952  0.231690   \n",
              "DTS3  0.102627  0.260111  0.150563  0.106262  0.251262  0.311683  0.086667   \n",
              "DTS4  0.361476  0.187175  0.455286  0.455286  0.435421  0.199421  0.352143   \n",
              "DTS5  0.293532  0.187175  0.304968  0.304968  0.435421  0.199421  0.290770   \n",
              "DTS6  0.462881  0.293722  0.244770  0.244770  0.282651  0.335190  0.205548   \n",
              "\n",
              "           HDy      SORD  \n",
              "DTS1  0.292063  0.294976  \n",
              "DTS2  0.243254  0.203278  \n",
              "DTS3  0.161421  0.206532  \n",
              "DTS4  0.416722  0.425778  \n",
              "DTS5  0.156683  0.282722  \n",
              "DTS6  0.218635  0.212802  "
            ]
          },
          "execution_count": 46,
          "metadata": {},
          "output_type": "execute_result"
        }
      ],
      "source": [
        "resnet50_mean_results = mae_best_config(resnet50_best_abs, resnet50_abs)\n",
        "resnet50_mean_results.index = index\n",
        "resnet50_mean_results"
      ]
    },
    {
      "cell_type": "code",
      "execution_count": 47,
      "metadata": {
        "colab": {
          "base_uri": "https://localhost:8080/",
          "height": 237
        },
        "id": "Wn1vLykUmFZc",
        "outputId": "a543d730-df47-404b-a854-d437e887ec16"
      },
      "outputs": [
        {
          "data": {
            "text/html": [
              "<div>\n",
              "<style scoped>\n",
              "    .dataframe tbody tr th:only-of-type {\n",
              "        vertical-align: middle;\n",
              "    }\n",
              "\n",
              "    .dataframe tbody tr th {\n",
              "        vertical-align: top;\n",
              "    }\n",
              "\n",
              "    .dataframe thead th {\n",
              "        text-align: right;\n",
              "    }\n",
              "</style>\n",
              "<table border=\"1\" class=\"dataframe\">\n",
              "  <thead>\n",
              "    <tr style=\"text-align: right;\">\n",
              "      <th></th>\n",
              "      <th>CC</th>\n",
              "      <th>ACC</th>\n",
              "      <th>X</th>\n",
              "      <th>MAX</th>\n",
              "      <th>T50</th>\n",
              "      <th>MS</th>\n",
              "      <th>DyS</th>\n",
              "      <th>HDy</th>\n",
              "      <th>SORD</th>\n",
              "    </tr>\n",
              "  </thead>\n",
              "  <tbody>\n",
              "    <tr>\n",
              "      <th>DTS1</th>\n",
              "      <td>0.045762</td>\n",
              "      <td>0.041302</td>\n",
              "      <td>0.039857</td>\n",
              "      <td>0.047563</td>\n",
              "      <td>0.114095</td>\n",
              "      <td>0.037563</td>\n",
              "      <td>0.030571</td>\n",
              "      <td>0.037857</td>\n",
              "      <td>0.038071</td>\n",
              "    </tr>\n",
              "    <tr>\n",
              "      <th>DTS2</th>\n",
              "      <td>0.125429</td>\n",
              "      <td>0.115905</td>\n",
              "      <td>0.118571</td>\n",
              "      <td>0.126071</td>\n",
              "      <td>0.116159</td>\n",
              "      <td>0.105238</td>\n",
              "      <td>0.108373</td>\n",
              "      <td>0.104032</td>\n",
              "      <td>0.112635</td>\n",
              "    </tr>\n",
              "    <tr>\n",
              "      <th>DTS3</th>\n",
              "      <td>0.393587</td>\n",
              "      <td>0.493651</td>\n",
              "      <td>0.505992</td>\n",
              "      <td>0.207548</td>\n",
              "      <td>0.498905</td>\n",
              "      <td>0.493651</td>\n",
              "      <td>0.394611</td>\n",
              "      <td>0.232944</td>\n",
              "      <td>0.207365</td>\n",
              "    </tr>\n",
              "    <tr>\n",
              "      <th>DTS4</th>\n",
              "      <td>0.142857</td>\n",
              "      <td>0.213373</td>\n",
              "      <td>0.187103</td>\n",
              "      <td>0.186143</td>\n",
              "      <td>0.224032</td>\n",
              "      <td>0.203048</td>\n",
              "      <td>0.185873</td>\n",
              "      <td>0.176373</td>\n",
              "      <td>0.197571</td>\n",
              "    </tr>\n",
              "    <tr>\n",
              "      <th>DTS5</th>\n",
              "      <td>0.142857</td>\n",
              "      <td>0.213373</td>\n",
              "      <td>0.187103</td>\n",
              "      <td>0.186143</td>\n",
              "      <td>0.224032</td>\n",
              "      <td>0.203048</td>\n",
              "      <td>0.185873</td>\n",
              "      <td>0.176373</td>\n",
              "      <td>0.197571</td>\n",
              "    </tr>\n",
              "    <tr>\n",
              "      <th>DTS6</th>\n",
              "      <td>0.336317</td>\n",
              "      <td>0.394944</td>\n",
              "      <td>0.395286</td>\n",
              "      <td>0.381849</td>\n",
              "      <td>0.419357</td>\n",
              "      <td>0.385111</td>\n",
              "      <td>0.395881</td>\n",
              "      <td>0.417556</td>\n",
              "      <td>0.374024</td>\n",
              "    </tr>\n",
              "  </tbody>\n",
              "</table>\n",
              "</div>"
            ],
            "text/plain": [
              "            CC       ACC         X       MAX       T50        MS       DyS  \\\n",
              "DTS1  0.045762  0.041302  0.039857  0.047563  0.114095  0.037563  0.030571   \n",
              "DTS2  0.125429  0.115905  0.118571  0.126071  0.116159  0.105238  0.108373   \n",
              "DTS3  0.393587  0.493651  0.505992  0.207548  0.498905  0.493651  0.394611   \n",
              "DTS4  0.142857  0.213373  0.187103  0.186143  0.224032  0.203048  0.185873   \n",
              "DTS5  0.142857  0.213373  0.187103  0.186143  0.224032  0.203048  0.185873   \n",
              "DTS6  0.336317  0.394944  0.395286  0.381849  0.419357  0.385111  0.395881   \n",
              "\n",
              "           HDy      SORD  \n",
              "DTS1  0.037857  0.038071  \n",
              "DTS2  0.104032  0.112635  \n",
              "DTS3  0.232944  0.207365  \n",
              "DTS4  0.176373  0.197571  \n",
              "DTS5  0.176373  0.197571  \n",
              "DTS6  0.417556  0.374024  "
            ]
          },
          "execution_count": 47,
          "metadata": {},
          "output_type": "execute_result"
        }
      ],
      "source": [
        "vgg16_mean_results = mae_best_config(vgg16_best_abs, vgg16_abs)\n",
        "vgg16_mean_results.index = index\n",
        "vgg16_mean_results"
      ]
    },
    {
      "cell_type": "markdown",
      "metadata": {
        "id": "i9QFgIXov7Mr"
      },
      "source": [
        "## Best overall config per classifier and dataset"
      ]
    },
    {
      "cell_type": "code",
      "execution_count": 48,
      "metadata": {
        "colab": {
          "base_uri": "https://localhost:8080/",
          "height": 341
        },
        "id": "5VCd8hk8Xq5w",
        "outputId": "0ea88b3c-3953-46fd-83f4-09b97a9e616e"
      },
      "outputs": [
        {
          "data": {
            "text/html": [
              "<div>\n",
              "<style scoped>\n",
              "    .dataframe tbody tr th:only-of-type {\n",
              "        vertical-align: middle;\n",
              "    }\n",
              "\n",
              "    .dataframe tbody tr th {\n",
              "        vertical-align: top;\n",
              "    }\n",
              "\n",
              "    .dataframe thead th {\n",
              "        text-align: right;\n",
              "    }\n",
              "</style>\n",
              "<table border=\"1\" class=\"dataframe\">\n",
              "  <thead>\n",
              "    <tr style=\"text-align: right;\">\n",
              "      <th></th>\n",
              "      <th>CC</th>\n",
              "      <th>ACC</th>\n",
              "      <th>X</th>\n",
              "      <th>MAX</th>\n",
              "      <th>T50</th>\n",
              "      <th>MS</th>\n",
              "      <th>DyS</th>\n",
              "      <th>HDy</th>\n",
              "      <th>SORD</th>\n",
              "    </tr>\n",
              "  </thead>\n",
              "  <tbody>\n",
              "    <tr>\n",
              "      <th>DTS1</th>\n",
              "      <td>[CC_pt, vgg16, diff]</td>\n",
              "      <td>[ACC_pt, vgg16, diff]</td>\n",
              "      <td>[X_pt, vgg16, diff]</td>\n",
              "      <td>[MAX_pt, vgg16, diff]</td>\n",
              "      <td>[T50_pt, vgg16, diff]</td>\n",
              "      <td>[MS_pt, vgg16, diff]</td>\n",
              "      <td>[DyS_pt, vgg16, diff]</td>\n",
              "      <td>[HDy_pt, vgg16, diff]</td>\n",
              "      <td>[SORD_pt, vgg16, diff]</td>\n",
              "    </tr>\n",
              "    <tr>\n",
              "      <th>DTS2</th>\n",
              "      <td>[CC_npt, resnet50, not_diff]</td>\n",
              "      <td>[ACC_npt, vgg16, diff]</td>\n",
              "      <td>[X_pt, vgg16, diff]</td>\n",
              "      <td>[MAX_pt, vgg16, diff]</td>\n",
              "      <td>[T50_npt, vgg16, diff]</td>\n",
              "      <td>[MS_npt, vgg16, diff]</td>\n",
              "      <td>[DyS_npt, vgg16, diff]</td>\n",
              "      <td>[HDy_npt, vgg16, diff]</td>\n",
              "      <td>[SORD_npt, vgg16, diff]</td>\n",
              "    </tr>\n",
              "    <tr>\n",
              "      <th>DTS3</th>\n",
              "      <td>[CC_npt, resnet50, diff]</td>\n",
              "      <td>[ACC_npt, resnet50, diff]</td>\n",
              "      <td>[X_npt, resnet50, diff]</td>\n",
              "      <td>[MAX_npt, resnet50, diff]</td>\n",
              "      <td>[T50_npt, resnet50, diff]</td>\n",
              "      <td>[MS_npt, resnet50, diff]</td>\n",
              "      <td>[DyS_npt, resnet50, diff]</td>\n",
              "      <td>[HDy_npt, resnet50, diff]</td>\n",
              "      <td>[SORD_pt, resnet50, not_diff]</td>\n",
              "    </tr>\n",
              "    <tr>\n",
              "      <th>DTS4</th>\n",
              "      <td>[CC_pt, vgg16, diff]</td>\n",
              "      <td>[ACC_pt, resnet50, not_diff]</td>\n",
              "      <td>[X_pt, vgg16, diff]</td>\n",
              "      <td>[MAX_pt, vgg16, diff]</td>\n",
              "      <td>[T50_pt, vgg16, diff]</td>\n",
              "      <td>[MS_pt, resnet50, not_diff]</td>\n",
              "      <td>[DyS_pt, vgg16, diff]</td>\n",
              "      <td>[HDy_pt, vgg16, diff]</td>\n",
              "      <td>[SORD_pt, vgg16, diff]</td>\n",
              "    </tr>\n",
              "    <tr>\n",
              "      <th>DTS5</th>\n",
              "      <td>[CC_pt, vgg16, diff]</td>\n",
              "      <td>[ACC_pt, resnet50, not_diff]</td>\n",
              "      <td>[X_pt, vgg16, diff]</td>\n",
              "      <td>[MAX_pt, vgg16, diff]</td>\n",
              "      <td>[T50_pt, vgg16, diff]</td>\n",
              "      <td>[MS_pt, resnet50, not_diff]</td>\n",
              "      <td>[DyS_pt, vgg16, diff]</td>\n",
              "      <td>[HDy_npt, resnet50, not_diff]</td>\n",
              "      <td>[SORD_pt, vgg16, not_diff]</td>\n",
              "    </tr>\n",
              "    <tr>\n",
              "      <th>DTS6</th>\n",
              "      <td>[CC_pt, vgg16, not_diff]</td>\n",
              "      <td>[ACC_pt, resnet50, not_diff]</td>\n",
              "      <td>[X_pt, resnet50, diff]</td>\n",
              "      <td>[MAX_pt, resnet50, diff]</td>\n",
              "      <td>[T50_pt, resnet50, not_diff]</td>\n",
              "      <td>[MS_npt, resnet50, not_diff]</td>\n",
              "      <td>[DyS_pt, resnet50, diff]</td>\n",
              "      <td>[HDy_pt, resnet50, diff]</td>\n",
              "      <td>[SORD_pt, resnet50, diff]</td>\n",
              "    </tr>\n",
              "  </tbody>\n",
              "</table>\n",
              "</div>"
            ],
            "text/plain": [
              "                                CC                           ACC  \\\n",
              "DTS1          [CC_pt, vgg16, diff]         [ACC_pt, vgg16, diff]   \n",
              "DTS2  [CC_npt, resnet50, not_diff]        [ACC_npt, vgg16, diff]   \n",
              "DTS3      [CC_npt, resnet50, diff]     [ACC_npt, resnet50, diff]   \n",
              "DTS4          [CC_pt, vgg16, diff]  [ACC_pt, resnet50, not_diff]   \n",
              "DTS5          [CC_pt, vgg16, diff]  [ACC_pt, resnet50, not_diff]   \n",
              "DTS6      [CC_pt, vgg16, not_diff]  [ACC_pt, resnet50, not_diff]   \n",
              "\n",
              "                            X                        MAX  \\\n",
              "DTS1      [X_pt, vgg16, diff]      [MAX_pt, vgg16, diff]   \n",
              "DTS2      [X_pt, vgg16, diff]      [MAX_pt, vgg16, diff]   \n",
              "DTS3  [X_npt, resnet50, diff]  [MAX_npt, resnet50, diff]   \n",
              "DTS4      [X_pt, vgg16, diff]      [MAX_pt, vgg16, diff]   \n",
              "DTS5      [X_pt, vgg16, diff]      [MAX_pt, vgg16, diff]   \n",
              "DTS6   [X_pt, resnet50, diff]   [MAX_pt, resnet50, diff]   \n",
              "\n",
              "                               T50                            MS  \\\n",
              "DTS1         [T50_pt, vgg16, diff]          [MS_pt, vgg16, diff]   \n",
              "DTS2        [T50_npt, vgg16, diff]         [MS_npt, vgg16, diff]   \n",
              "DTS3     [T50_npt, resnet50, diff]      [MS_npt, resnet50, diff]   \n",
              "DTS4         [T50_pt, vgg16, diff]   [MS_pt, resnet50, not_diff]   \n",
              "DTS5         [T50_pt, vgg16, diff]   [MS_pt, resnet50, not_diff]   \n",
              "DTS6  [T50_pt, resnet50, not_diff]  [MS_npt, resnet50, not_diff]   \n",
              "\n",
              "                            DyS                            HDy  \\\n",
              "DTS1      [DyS_pt, vgg16, diff]          [HDy_pt, vgg16, diff]   \n",
              "DTS2     [DyS_npt, vgg16, diff]         [HDy_npt, vgg16, diff]   \n",
              "DTS3  [DyS_npt, resnet50, diff]      [HDy_npt, resnet50, diff]   \n",
              "DTS4      [DyS_pt, vgg16, diff]          [HDy_pt, vgg16, diff]   \n",
              "DTS5      [DyS_pt, vgg16, diff]  [HDy_npt, resnet50, not_diff]   \n",
              "DTS6   [DyS_pt, resnet50, diff]       [HDy_pt, resnet50, diff]   \n",
              "\n",
              "                               SORD  \n",
              "DTS1         [SORD_pt, vgg16, diff]  \n",
              "DTS2        [SORD_npt, vgg16, diff]  \n",
              "DTS3  [SORD_pt, resnet50, not_diff]  \n",
              "DTS4         [SORD_pt, vgg16, diff]  \n",
              "DTS5     [SORD_pt, vgg16, not_diff]  \n",
              "DTS6      [SORD_pt, resnet50, diff]  "
            ]
          },
          "execution_count": 48,
          "metadata": {},
          "output_type": "execute_result"
        }
      ],
      "source": [
        "mae_best_df = best_config_overall(resnet50_abs, vgg16_abs, resnet50_best_abs, vgg16_best_abs)\n",
        "mae_best_df.index = index\n",
        "mae_best_df"
      ]
    },
    {
      "cell_type": "code",
      "execution_count": 49,
      "metadata": {
        "colab": {
          "base_uri": "https://localhost:8080/",
          "height": 465
        },
        "id": "MoVW445ldH_k",
        "outputId": "382201d0-52d2-48d4-c777-071f363b3a36"
      },
      "outputs": [
        {
          "data": {
            "text/html": [
              "<div>\n",
              "<style scoped>\n",
              "    .dataframe tbody tr th:only-of-type {\n",
              "        vertical-align: middle;\n",
              "    }\n",
              "\n",
              "    .dataframe tbody tr th {\n",
              "        vertical-align: top;\n",
              "    }\n",
              "\n",
              "    .dataframe thead th {\n",
              "        text-align: right;\n",
              "    }\n",
              "</style>\n",
              "<table border=\"1\" class=\"dataframe\">\n",
              "  <thead>\n",
              "    <tr style=\"text-align: right;\">\n",
              "      <th></th>\n",
              "      <th>CC</th>\n",
              "      <th>ACC</th>\n",
              "      <th>X</th>\n",
              "      <th>MAX</th>\n",
              "      <th>T50</th>\n",
              "      <th>MS</th>\n",
              "      <th>DyS</th>\n",
              "      <th>HDy</th>\n",
              "      <th>SORD</th>\n",
              "    </tr>\n",
              "  </thead>\n",
              "  <tbody>\n",
              "    <tr>\n",
              "      <th>DTS1</th>\n",
              "      <td>[0.043333333333333335, 0.05633333333333334, 0....</td>\n",
              "      <td>[0.029666666666666668, 0.04616666666666667, 0....</td>\n",
              "      <td>[0.044000000000000004, 0.0535, 0.05, 0.048, 0....</td>\n",
              "      <td>[0.06966666666666667, 0.08650000000000001, 0.0...</td>\n",
              "      <td>[0.0, 0.025, 0.061000000000000006, 0.058666666...</td>\n",
              "      <td>[0.034166666666666665, 0.04883333333333333, 0....</td>\n",
              "      <td>[0.010333333333333333, 0.024166666666666666, 0...</td>\n",
              "      <td>[0.018166666666666668, 0.01983333333333333, 0....</td>\n",
              "      <td>[0.0355, 0.0525, 0.04633333333333333, 0.042333...</td>\n",
              "    </tr>\n",
              "    <tr>\n",
              "      <th>DTS2</th>\n",
              "      <td>[0.19433333333333333, 0.17750000000000002, 0.1...</td>\n",
              "      <td>[0.034, 0.0555, 0.053000000000000005, 0.089166...</td>\n",
              "      <td>[0.20433333333333334, 0.20683333333333334, 0.1...</td>\n",
              "      <td>[0.228, 0.22383333333333333, 0.217333333333333...</td>\n",
              "      <td>[0.04583333333333333, 0.05983333333333333, 0.0...</td>\n",
              "      <td>[0.0315, 0.05333333333333334, 0.05516666666666...</td>\n",
              "      <td>[0.028833333333333332, 0.053000000000000005, 0...</td>\n",
              "      <td>[0.012333333333333333, 0.043166666666666666, 0...</td>\n",
              "      <td>[0.0315, 0.07050000000000001, 0.06333333333333...</td>\n",
              "    </tr>\n",
              "    <tr>\n",
              "      <th>DTS3</th>\n",
              "      <td>[0.08033333333333334, 0.06833333333333334, 0.0...</td>\n",
              "      <td>[0.14366666666666666, 0.15933333333333335, 0.2...</td>\n",
              "      <td>[0.15783333333333335, 0.14816666666666667, 0.1...</td>\n",
              "      <td>[0.13616666666666666, 0.128, 0.126, 0.12250000...</td>\n",
              "      <td>[0.17116666666666666, 0.18316666666666667, 0.2...</td>\n",
              "      <td>[0.16316666666666668, 0.2006666666666667, 0.32...</td>\n",
              "      <td>[0.12383333333333332, 0.12116666666666667, 0.1...</td>\n",
              "      <td>[0.07466666666666667, 0.058833333333333335, 0....</td>\n",
              "      <td>[0.34349999999999997, 0.32566666666666666, 0.2...</td>\n",
              "    </tr>\n",
              "    <tr>\n",
              "      <th>DTS4</th>\n",
              "      <td>[0.2685, 0.269, 0.23933333333333331, 0.2271666...</td>\n",
              "      <td>[0.18800000000000003, 0.17666666666666667, 0.1...</td>\n",
              "      <td>[0.37283333333333335, 0.37883333333333336, 0.3...</td>\n",
              "      <td>[0.37066666666666664, 0.3825, 0.333, 0.335, 0....</td>\n",
              "      <td>[0.25683333333333336, 0.2856666666666667, 0.24...</td>\n",
              "      <td>[0.18283333333333335, 0.1905, 0.17983333333333...</td>\n",
              "      <td>[0.33866666666666667, 0.3528333333333334, 0.32...</td>\n",
              "      <td>[0.30483333333333335, 0.31316666666666665, 0.2...</td>\n",
              "      <td>[0.34600000000000003, 0.35366666666666663, 0.3...</td>\n",
              "    </tr>\n",
              "    <tr>\n",
              "      <th>DTS5</th>\n",
              "      <td>[0.2685, 0.269, 0.23933333333333331, 0.2271666...</td>\n",
              "      <td>[0.18800000000000003, 0.17666666666666667, 0.1...</td>\n",
              "      <td>[0.37283333333333335, 0.37883333333333336, 0.3...</td>\n",
              "      <td>[0.37066666666666664, 0.3825, 0.333, 0.335, 0....</td>\n",
              "      <td>[0.25683333333333336, 0.2856666666666667, 0.24...</td>\n",
              "      <td>[0.18283333333333335, 0.1905, 0.17983333333333...</td>\n",
              "      <td>[0.33866666666666667, 0.3528333333333334, 0.32...</td>\n",
              "      <td>[0.2311666666666667, 0.23933333333333331, 0.20...</td>\n",
              "      <td>[0.34600000000000003, 0.35366666666666663, 0.3...</td>\n",
              "    </tr>\n",
              "    <tr>\n",
              "      <th>DTS6</th>\n",
              "      <td>[0.034, 0.03216666666666667, 0.054333333333333...</td>\n",
              "      <td>[0.018000000000000002, 0.065, 0.10300000000000...</td>\n",
              "      <td>[0.07766666666666668, 0.04083333333333334, 0.0...</td>\n",
              "      <td>[0.07766666666666668, 0.04083333333333334, 0.0...</td>\n",
              "      <td>[0.04483333333333333, 0.029833333333333333, 0....</td>\n",
              "      <td>[0.2338333333333333, 0.196, 0.123, 0.084166666...</td>\n",
              "      <td>[0.010666666666666666, 0.037333333333333336, 0...</td>\n",
              "      <td>[0.006833333333333334, 0.03783333333333334, 0....</td>\n",
              "      <td>[0.0033333333333333335, 0.03666666666666667, 0...</td>\n",
              "    </tr>\n",
              "  </tbody>\n",
              "</table>\n",
              "</div>"
            ],
            "text/plain": [
              "                                                     CC  \\\n",
              "DTS1  [0.043333333333333335, 0.05633333333333334, 0....   \n",
              "DTS2  [0.19433333333333333, 0.17750000000000002, 0.1...   \n",
              "DTS3  [0.08033333333333334, 0.06833333333333334, 0.0...   \n",
              "DTS4  [0.2685, 0.269, 0.23933333333333331, 0.2271666...   \n",
              "DTS5  [0.2685, 0.269, 0.23933333333333331, 0.2271666...   \n",
              "DTS6  [0.034, 0.03216666666666667, 0.054333333333333...   \n",
              "\n",
              "                                                    ACC  \\\n",
              "DTS1  [0.029666666666666668, 0.04616666666666667, 0....   \n",
              "DTS2  [0.034, 0.0555, 0.053000000000000005, 0.089166...   \n",
              "DTS3  [0.14366666666666666, 0.15933333333333335, 0.2...   \n",
              "DTS4  [0.18800000000000003, 0.17666666666666667, 0.1...   \n",
              "DTS5  [0.18800000000000003, 0.17666666666666667, 0.1...   \n",
              "DTS6  [0.018000000000000002, 0.065, 0.10300000000000...   \n",
              "\n",
              "                                                      X  \\\n",
              "DTS1  [0.044000000000000004, 0.0535, 0.05, 0.048, 0....   \n",
              "DTS2  [0.20433333333333334, 0.20683333333333334, 0.1...   \n",
              "DTS3  [0.15783333333333335, 0.14816666666666667, 0.1...   \n",
              "DTS4  [0.37283333333333335, 0.37883333333333336, 0.3...   \n",
              "DTS5  [0.37283333333333335, 0.37883333333333336, 0.3...   \n",
              "DTS6  [0.07766666666666668, 0.04083333333333334, 0.0...   \n",
              "\n",
              "                                                    MAX  \\\n",
              "DTS1  [0.06966666666666667, 0.08650000000000001, 0.0...   \n",
              "DTS2  [0.228, 0.22383333333333333, 0.217333333333333...   \n",
              "DTS3  [0.13616666666666666, 0.128, 0.126, 0.12250000...   \n",
              "DTS4  [0.37066666666666664, 0.3825, 0.333, 0.335, 0....   \n",
              "DTS5  [0.37066666666666664, 0.3825, 0.333, 0.335, 0....   \n",
              "DTS6  [0.07766666666666668, 0.04083333333333334, 0.0...   \n",
              "\n",
              "                                                    T50  \\\n",
              "DTS1  [0.0, 0.025, 0.061000000000000006, 0.058666666...   \n",
              "DTS2  [0.04583333333333333, 0.05983333333333333, 0.0...   \n",
              "DTS3  [0.17116666666666666, 0.18316666666666667, 0.2...   \n",
              "DTS4  [0.25683333333333336, 0.2856666666666667, 0.24...   \n",
              "DTS5  [0.25683333333333336, 0.2856666666666667, 0.24...   \n",
              "DTS6  [0.04483333333333333, 0.029833333333333333, 0....   \n",
              "\n",
              "                                                     MS  \\\n",
              "DTS1  [0.034166666666666665, 0.04883333333333333, 0....   \n",
              "DTS2  [0.0315, 0.05333333333333334, 0.05516666666666...   \n",
              "DTS3  [0.16316666666666668, 0.2006666666666667, 0.32...   \n",
              "DTS4  [0.18283333333333335, 0.1905, 0.17983333333333...   \n",
              "DTS5  [0.18283333333333335, 0.1905, 0.17983333333333...   \n",
              "DTS6  [0.2338333333333333, 0.196, 0.123, 0.084166666...   \n",
              "\n",
              "                                                    DyS  \\\n",
              "DTS1  [0.010333333333333333, 0.024166666666666666, 0...   \n",
              "DTS2  [0.028833333333333332, 0.053000000000000005, 0...   \n",
              "DTS3  [0.12383333333333332, 0.12116666666666667, 0.1...   \n",
              "DTS4  [0.33866666666666667, 0.3528333333333334, 0.32...   \n",
              "DTS5  [0.33866666666666667, 0.3528333333333334, 0.32...   \n",
              "DTS6  [0.010666666666666666, 0.037333333333333336, 0...   \n",
              "\n",
              "                                                    HDy  \\\n",
              "DTS1  [0.018166666666666668, 0.01983333333333333, 0....   \n",
              "DTS2  [0.012333333333333333, 0.043166666666666666, 0...   \n",
              "DTS3  [0.07466666666666667, 0.058833333333333335, 0....   \n",
              "DTS4  [0.30483333333333335, 0.31316666666666665, 0.2...   \n",
              "DTS5  [0.2311666666666667, 0.23933333333333331, 0.20...   \n",
              "DTS6  [0.006833333333333334, 0.03783333333333334, 0....   \n",
              "\n",
              "                                                   SORD  \n",
              "DTS1  [0.0355, 0.0525, 0.04633333333333333, 0.042333...  \n",
              "DTS2  [0.0315, 0.07050000000000001, 0.06333333333333...  \n",
              "DTS3  [0.34349999999999997, 0.32566666666666666, 0.2...  \n",
              "DTS4  [0.34600000000000003, 0.35366666666666663, 0.3...  \n",
              "DTS5  [0.34600000000000003, 0.35366666666666663, 0.3...  \n",
              "DTS6  [0.0033333333333333335, 0.03666666666666667, 0...  "
            ]
          },
          "execution_count": 49,
          "metadata": {},
          "output_type": "execute_result"
        }
      ],
      "source": [
        "best_abs = best_abs_error_list(mae_best_df, resnet50_abs, vgg16_abs)\n",
        "best_abs.index = index\n",
        "best_abs"
      ]
    },
    {
      "cell_type": "code",
      "execution_count": 50,
      "metadata": {
        "colab": {
          "base_uri": "https://localhost:8080/",
          "height": 237
        },
        "id": "GT4rtiXSmKxy",
        "outputId": "202cda93-aeb2-4d3f-f83c-b75db22efff1"
      },
      "outputs": [
        {
          "data": {
            "text/html": [
              "<div>\n",
              "<style scoped>\n",
              "    .dataframe tbody tr th:only-of-type {\n",
              "        vertical-align: middle;\n",
              "    }\n",
              "\n",
              "    .dataframe tbody tr th {\n",
              "        vertical-align: top;\n",
              "    }\n",
              "\n",
              "    .dataframe thead th {\n",
              "        text-align: right;\n",
              "    }\n",
              "</style>\n",
              "<table border=\"1\" class=\"dataframe\">\n",
              "  <thead>\n",
              "    <tr style=\"text-align: right;\">\n",
              "      <th></th>\n",
              "      <th>CC</th>\n",
              "      <th>ACC</th>\n",
              "      <th>X</th>\n",
              "      <th>MAX</th>\n",
              "      <th>T50</th>\n",
              "      <th>MS</th>\n",
              "      <th>DyS</th>\n",
              "      <th>HDy</th>\n",
              "      <th>SORD</th>\n",
              "    </tr>\n",
              "  </thead>\n",
              "  <tbody>\n",
              "    <tr>\n",
              "      <th>DTS1</th>\n",
              "      <td>0.046</td>\n",
              "      <td>0.041</td>\n",
              "      <td>0.040</td>\n",
              "      <td>0.048</td>\n",
              "      <td>0.114</td>\n",
              "      <td>0.038</td>\n",
              "      <td>0.031</td>\n",
              "      <td>0.038</td>\n",
              "      <td>0.038</td>\n",
              "    </tr>\n",
              "    <tr>\n",
              "      <th>DTS2</th>\n",
              "      <td>0.094</td>\n",
              "      <td>0.116</td>\n",
              "      <td>0.119</td>\n",
              "      <td>0.126</td>\n",
              "      <td>0.116</td>\n",
              "      <td>0.105</td>\n",
              "      <td>0.108</td>\n",
              "      <td>0.104</td>\n",
              "      <td>0.113</td>\n",
              "    </tr>\n",
              "    <tr>\n",
              "      <th>DTS3</th>\n",
              "      <td>0.103</td>\n",
              "      <td>0.260</td>\n",
              "      <td>0.151</td>\n",
              "      <td>0.106</td>\n",
              "      <td>0.251</td>\n",
              "      <td>0.312</td>\n",
              "      <td>0.087</td>\n",
              "      <td>0.161</td>\n",
              "      <td>0.207</td>\n",
              "    </tr>\n",
              "    <tr>\n",
              "      <th>DTS4</th>\n",
              "      <td>0.143</td>\n",
              "      <td>0.187</td>\n",
              "      <td>0.187</td>\n",
              "      <td>0.186</td>\n",
              "      <td>0.224</td>\n",
              "      <td>0.199</td>\n",
              "      <td>0.186</td>\n",
              "      <td>0.176</td>\n",
              "      <td>0.198</td>\n",
              "    </tr>\n",
              "    <tr>\n",
              "      <th>DTS5</th>\n",
              "      <td>0.143</td>\n",
              "      <td>0.187</td>\n",
              "      <td>0.187</td>\n",
              "      <td>0.186</td>\n",
              "      <td>0.224</td>\n",
              "      <td>0.199</td>\n",
              "      <td>0.186</td>\n",
              "      <td>0.157</td>\n",
              "      <td>0.198</td>\n",
              "    </tr>\n",
              "    <tr>\n",
              "      <th>DTS6</th>\n",
              "      <td>0.336</td>\n",
              "      <td>0.294</td>\n",
              "      <td>0.245</td>\n",
              "      <td>0.245</td>\n",
              "      <td>0.283</td>\n",
              "      <td>0.335</td>\n",
              "      <td>0.206</td>\n",
              "      <td>0.219</td>\n",
              "      <td>0.213</td>\n",
              "    </tr>\n",
              "  </tbody>\n",
              "</table>\n",
              "</div>"
            ],
            "text/plain": [
              "         CC    ACC      X    MAX    T50     MS    DyS    HDy   SORD\n",
              "DTS1  0.046  0.041  0.040  0.048  0.114  0.038  0.031  0.038  0.038\n",
              "DTS2  0.094  0.116  0.119  0.126  0.116  0.105  0.108  0.104  0.113\n",
              "DTS3  0.103  0.260  0.151  0.106  0.251  0.312  0.087  0.161  0.207\n",
              "DTS4  0.143  0.187  0.187  0.186  0.224  0.199  0.186  0.176  0.198\n",
              "DTS5  0.143  0.187  0.187  0.186  0.224  0.199  0.186  0.157  0.198\n",
              "DTS6  0.336  0.294  0.245  0.245  0.283  0.335  0.206  0.219  0.213"
            ]
          },
          "execution_count": 50,
          "metadata": {},
          "output_type": "execute_result"
        }
      ],
      "source": [
        "mae_best_results = mae_best_config(mae_best_df, resnet50_abs, vgg16_abs)\n",
        "mae_best_results.index = index\n",
        "mae_best_results.round(3)"
      ]
    },
    {
      "cell_type": "markdown",
      "metadata": {
        "id": "T6mMp7AKeDmX"
      },
      "source": [
        "## Friedman and Nemenyi test"
      ]
    },
    {
      "cell_type": "code",
      "execution_count": 51,
      "metadata": {
        "id": "gCNz9nNQeDGa"
      },
      "outputs": [
        {
          "name": "stdout",
          "output_type": "stream",
          "text": [
            "Collecting scikit_posthocs\n",
            "  Downloading scikit_posthocs-0.9.0-py3-none-any.whl.metadata (5.8 kB)\n",
            "Requirement already satisfied: numpy in c:\\users\\joaop\\appdata\\local\\programs\\python\\python311\\lib\\site-packages (from scikit_posthocs) (1.24.2)\n",
            "Requirement already satisfied: scipy>=1.9.0 in c:\\users\\joaop\\appdata\\local\\programs\\python\\python311\\lib\\site-packages (from scikit_posthocs) (1.12.0)\n",
            "Collecting statsmodels (from scikit_posthocs)\n",
            "  Downloading statsmodels-0.14.1-cp311-cp311-win_amd64.whl.metadata (9.8 kB)\n",
            "Requirement already satisfied: pandas>=0.20.0 in c:\\users\\joaop\\appdata\\local\\programs\\python\\python311\\lib\\site-packages (from scikit_posthocs) (1.5.3)\n",
            "Requirement already satisfied: seaborn in c:\\users\\joaop\\appdata\\local\\programs\\python\\python311\\lib\\site-packages (from scikit_posthocs) (0.13.2)\n",
            "Requirement already satisfied: matplotlib in c:\\users\\joaop\\appdata\\local\\programs\\python\\python311\\lib\\site-packages (from scikit_posthocs) (3.7.1)\n",
            "Requirement already satisfied: python-dateutil>=2.8.1 in c:\\users\\joaop\\appdata\\roaming\\python\\python311\\site-packages (from pandas>=0.20.0->scikit_posthocs) (2.9.0.post0)\n",
            "Requirement already satisfied: pytz>=2020.1 in c:\\users\\joaop\\appdata\\local\\programs\\python\\python311\\lib\\site-packages (from pandas>=0.20.0->scikit_posthocs) (2022.7.1)\n",
            "Requirement already satisfied: contourpy>=1.0.1 in c:\\users\\joaop\\appdata\\local\\programs\\python\\python311\\lib\\site-packages (from matplotlib->scikit_posthocs) (1.0.7)\n",
            "Requirement already satisfied: cycler>=0.10 in c:\\users\\joaop\\appdata\\local\\programs\\python\\python311\\lib\\site-packages (from matplotlib->scikit_posthocs) (0.11.0)\n",
            "Requirement already satisfied: fonttools>=4.22.0 in c:\\users\\joaop\\appdata\\local\\programs\\python\\python311\\lib\\site-packages (from matplotlib->scikit_posthocs) (4.39.3)\n",
            "Requirement already satisfied: kiwisolver>=1.0.1 in c:\\users\\joaop\\appdata\\local\\programs\\python\\python311\\lib\\site-packages (from matplotlib->scikit_posthocs) (1.4.4)\n",
            "Requirement already satisfied: packaging>=20.0 in c:\\users\\joaop\\appdata\\roaming\\python\\python311\\site-packages (from matplotlib->scikit_posthocs) (24.0)\n",
            "Requirement already satisfied: pillow>=6.2.0 in c:\\users\\joaop\\appdata\\local\\programs\\python\\python311\\lib\\site-packages (from matplotlib->scikit_posthocs) (9.3.0)\n",
            "Requirement already satisfied: pyparsing>=2.3.1 in c:\\users\\joaop\\appdata\\local\\programs\\python\\python311\\lib\\site-packages (from matplotlib->scikit_posthocs) (3.0.9)\n",
            "Collecting patsy>=0.5.4 (from statsmodels->scikit_posthocs)\n",
            "  Downloading patsy-0.5.6-py2.py3-none-any.whl.metadata (3.5 kB)\n",
            "Requirement already satisfied: six in c:\\users\\joaop\\appdata\\roaming\\python\\python311\\site-packages (from patsy>=0.5.4->statsmodels->scikit_posthocs) (1.16.0)\n",
            "Downloading scikit_posthocs-0.9.0-py3-none-any.whl (32 kB)\n",
            "Downloading statsmodels-0.14.1-cp311-cp311-win_amd64.whl (9.9 MB)\n",
            "   ---------------------------------------- 0.0/9.9 MB ? eta -:--:--\n",
            "    --------------------------------------- 0.2/9.9 MB 4.7 MB/s eta 0:00:03\n",
            "   -- ------------------------------------- 0.7/9.9 MB 7.0 MB/s eta 0:00:02\n",
            "   ---- ----------------------------------- 1.0/9.9 MB 7.4 MB/s eta 0:00:02\n",
            "   ------ --------------------------------- 1.5/9.9 MB 8.1 MB/s eta 0:00:02\n",
            "   ------- -------------------------------- 1.8/9.9 MB 8.9 MB/s eta 0:00:01\n",
            "   -------- ------------------------------- 2.1/9.9 MB 7.6 MB/s eta 0:00:02\n",
            "   ---------- ----------------------------- 2.5/9.9 MB 8.0 MB/s eta 0:00:01\n",
            "   ------------ --------------------------- 3.0/9.9 MB 7.9 MB/s eta 0:00:01\n",
            "   ------------- -------------------------- 3.3/9.9 MB 8.1 MB/s eta 0:00:01\n",
            "   --------------- ------------------------ 3.8/9.9 MB 8.1 MB/s eta 0:00:01\n",
            "   ---------------- ----------------------- 4.1/9.9 MB 8.3 MB/s eta 0:00:01\n",
            "   ------------------ --------------------- 4.5/9.9 MB 8.0 MB/s eta 0:00:01\n",
            "   -------------------- ------------------- 5.0/9.9 MB 8.2 MB/s eta 0:00:01\n",
            "   --------------------- ------------------ 5.3/9.9 MB 8.0 MB/s eta 0:00:01\n",
            "   ----------------------- ---------------- 5.8/9.9 MB 8.2 MB/s eta 0:00:01\n",
            "   ------------------------ --------------- 6.1/9.9 MB 8.1 MB/s eta 0:00:01\n",
            "   -------------------------- ------------- 6.5/9.9 MB 8.2 MB/s eta 0:00:01\n",
            "   --------------------------- ------------ 6.8/9.9 MB 8.1 MB/s eta 0:00:01\n",
            "   ----------------------------- ---------- 7.3/9.9 MB 8.2 MB/s eta 0:00:01\n",
            "   ------------------------------ --------- 7.4/9.9 MB 8.2 MB/s eta 0:00:01\n",
            "   ------------------------------ --------- 7.4/9.9 MB 8.2 MB/s eta 0:00:01\n",
            "   -------------------------------- ------- 7.9/9.9 MB 7.6 MB/s eta 0:00:01\n",
            "   ---------------------------------- ----- 8.4/9.9 MB 7.8 MB/s eta 0:00:01\n",
            "   ----------------------------------- ---- 8.9/9.9 MB 8.0 MB/s eta 0:00:01\n",
            "   ------------------------------------- -- 9.4/9.9 MB 8.0 MB/s eta 0:00:01\n",
            "   ---------------------------------------  9.9/9.9 MB 8.1 MB/s eta 0:00:01\n",
            "   ---------------------------------------- 9.9/9.9 MB 7.9 MB/s eta 0:00:00\n",
            "Downloading patsy-0.5.6-py2.py3-none-any.whl (233 kB)\n",
            "   ---------------------------------------- 0.0/233.9 kB ? eta -:--:--\n",
            "   --------------------------------------- 233.9/233.9 kB 14.9 MB/s eta 0:00:00\n",
            "Installing collected packages: patsy, statsmodels, scikit_posthocs\n",
            "Successfully installed patsy-0.5.6 scikit_posthocs-0.9.0 statsmodels-0.14.1\n"
          ]
        }
      ],
      "source": [
        "!pip3 install scikit_posthocs\n",
        "import scikit_posthocs as sp"
      ]
    },
    {
      "cell_type": "code",
      "execution_count": 52,
      "metadata": {
        "id": "ApHT7OSFnbRy"
      },
      "outputs": [],
      "source": [
        "def friedman_nemenyi(best_abs_df, dataset_number):\n",
        "  dts_df = pd.DataFrame(columns=best_abs_df.columns)\n",
        "\n",
        "  for col in best_abs.columns:\n",
        "    abs_list = best_abs[col][dataset_number]\n",
        "    dts_df[col] = abs_list\n",
        "\n",
        "  return dts_df"
      ]
    },
    {
      "cell_type": "code",
      "execution_count": 53,
      "metadata": {
        "id": "Ak1NgQpxn6ZM"
      },
      "outputs": [],
      "source": [
        "dts_data = []\n",
        "for dts in range(6):\n",
        "  dts_df = friedman_nemenyi(best_abs, dts)\n",
        "  dts_data.append(dts_df)"
      ]
    },
    {
      "cell_type": "markdown",
      "metadata": {
        "id": "rnLsaSyIjWJa"
      },
      "source": [
        "### DTS1"
      ]
    },
    {
      "cell_type": "markdown",
      "metadata": {
        "id": "xyjEKTX6RSPj"
      },
      "source": [
        "#### Friedman Nemenyi"
      ]
    },
    {
      "cell_type": "code",
      "execution_count": 54,
      "metadata": {
        "colab": {
          "base_uri": "https://localhost:8080/"
        },
        "id": "xv_jEynoqa-a",
        "outputId": "d54daf2d-21ab-493d-ddfe-226e8bd1b4d5"
      },
      "outputs": [
        {
          "data": {
            "text/plain": [
              "CC     0.015556\n",
              "ACC    0.042618\n",
              "MAX    0.014107\n",
              "T50    0.001000\n",
              "Name: DyS, dtype: float64"
            ]
          },
          "execution_count": 54,
          "metadata": {},
          "output_type": "execute_result"
        }
      ],
      "source": [
        "dts_df = dts_data[0]\n",
        "\n",
        "posthoc = sp.posthoc_nemenyi_friedman(dts_df)\n",
        "posthoc = posthoc.iloc[6]\n",
        "diff = posthoc[posthoc < 0.05]\n",
        "diff"
      ]
    },
    {
      "cell_type": "markdown",
      "metadata": {
        "id": "QFBvwCXxRU5L"
      },
      "source": [
        "#### Bonferroni Dunn"
      ]
    },
    {
      "cell_type": "code",
      "execution_count": 55,
      "metadata": {
        "colab": {
          "base_uri": "https://localhost:8080/"
        },
        "id": "BuwTce5LHx81",
        "outputId": "3af0cc9d-294b-4478-c495-f392513851d2"
      },
      "outputs": [
        {
          "data": {
            "text/plain": [
              "CC     True\n",
              "MAX    True\n",
              "T50    True\n",
              "Name: DyS, dtype: bool"
            ]
          },
          "execution_count": 55,
          "metadata": {},
          "output_type": "execute_result"
        }
      ],
      "source": [
        "dunn = sp.posthoc_dunn([dts_df['CC'], dts_df['ACC'], dts_df['X'], dts_df['MAX'], dts_df['T50'], dts_df['MS'], dts_df['DyS'], dts_df['HDy'], dts_df['SORD']], p_adjust='bonferroni')\n",
        "dunn.index = quantifiers\n",
        "dunn.columns = quantifiers\n",
        "dunn = dunn < 0.05\n",
        "dunn = dunn.loc['DyS']\n",
        "dunn = dunn[dunn == True]\n",
        "dunn"
      ]
    },
    {
      "cell_type": "markdown",
      "metadata": {
        "id": "7FPRotcWRZhd"
      },
      "source": [
        "#### Best results"
      ]
    },
    {
      "cell_type": "code",
      "execution_count": 56,
      "metadata": {
        "colab": {
          "base_uri": "https://localhost:8080/"
        },
        "id": "Kunj7oTLmvMZ",
        "outputId": "ecde3e1a-112e-4852-be8d-4b8f0458fa1a"
      },
      "outputs": [
        {
          "data": {
            "text/plain": [
              "DyS     0.030571\n",
              "MS      0.037563\n",
              "HDy     0.037857\n",
              "SORD    0.038071\n",
              "X       0.039857\n",
              "ACC     0.041302\n",
              "CC      0.045762\n",
              "MAX     0.047563\n",
              "T50     0.114095\n",
              "Name: DTS1, dtype: float64"
            ]
          },
          "execution_count": 56,
          "metadata": {},
          "output_type": "execute_result"
        }
      ],
      "source": [
        "mae_best_results.iloc[0].sort_values()"
      ]
    },
    {
      "cell_type": "markdown",
      "metadata": {
        "id": "Std9qNTrqnQI"
      },
      "source": [
        "### DTS2"
      ]
    },
    {
      "cell_type": "markdown",
      "metadata": {
        "id": "Rf6xjyGNRAh4"
      },
      "source": [
        "#### Friedman e Nemenyi"
      ]
    },
    {
      "cell_type": "code",
      "execution_count": 57,
      "metadata": {
        "colab": {
          "base_uri": "https://localhost:8080/"
        },
        "id": "RIL_GCcAqzX6",
        "outputId": "65c3dccc-9428-4da7-ba19-94c1aa972a42"
      },
      "outputs": [
        {
          "data": {
            "text/plain": [
              "ACC    0.002594\n",
              "T50    0.005606\n",
              "Name: CC, dtype: float64"
            ]
          },
          "execution_count": 57,
          "metadata": {},
          "output_type": "execute_result"
        }
      ],
      "source": [
        "dts_df = dts_data[1]\n",
        "posthoc = sp.posthoc_nemenyi_friedman(dts_df)\n",
        "posthoc = posthoc.iloc[0]\n",
        "diff = posthoc[posthoc < 0.05]\n",
        "diff"
      ]
    },
    {
      "cell_type": "markdown",
      "metadata": {
        "id": "9QKjYIToRIwF"
      },
      "source": [
        "#### Bonferroni Dunn"
      ]
    },
    {
      "cell_type": "code",
      "execution_count": 58,
      "metadata": {
        "colab": {
          "base_uri": "https://localhost:8080/"
        },
        "id": "_V0lwQBuOxfX",
        "outputId": "23417adc-3e8e-4634-ec2a-ce71d0ddb5a9"
      },
      "outputs": [
        {
          "data": {
            "text/plain": [
              "Series([], Name: CC, dtype: bool)"
            ]
          },
          "execution_count": 58,
          "metadata": {},
          "output_type": "execute_result"
        }
      ],
      "source": [
        "dunn = sp.posthoc_dunn([dts_df['CC'], dts_df['ACC'], dts_df['X'], dts_df['MAX'], dts_df['T50'], dts_df['MS'], dts_df['DyS'], dts_df['HDy'], dts_df['SORD']], p_adjust='bonferroni')\n",
        "dunn.index = quantifiers\n",
        "dunn.columns = quantifiers\n",
        "dunn = dunn < 0.05\n",
        "dunn = dunn.loc['CC']\n",
        "dunn = dunn[dunn == True]\n",
        "dunn"
      ]
    },
    {
      "cell_type": "markdown",
      "metadata": {
        "id": "Ge5DC2d1RPU3"
      },
      "source": [
        "#### Best results"
      ]
    },
    {
      "cell_type": "code",
      "execution_count": 59,
      "metadata": {
        "colab": {
          "base_uri": "https://localhost:8080/"
        },
        "id": "AoEBQC_qq5vb",
        "outputId": "fec7cd5b-7871-4a4e-fe03-52c4b938483e"
      },
      "outputs": [
        {
          "data": {
            "text/plain": [
              "CC      0.094341\n",
              "HDy     0.104032\n",
              "MS      0.105238\n",
              "DyS     0.108373\n",
              "SORD    0.112635\n",
              "ACC     0.115905\n",
              "T50     0.116159\n",
              "X       0.118571\n",
              "MAX     0.126071\n",
              "Name: DTS2, dtype: float64"
            ]
          },
          "execution_count": 59,
          "metadata": {},
          "output_type": "execute_result"
        }
      ],
      "source": [
        "mae_best_results.iloc[1].sort_values()"
      ]
    },
    {
      "cell_type": "markdown",
      "metadata": {
        "id": "_4VQYArnqpoz"
      },
      "source": [
        "### DTS3"
      ]
    },
    {
      "cell_type": "markdown",
      "metadata": {
        "id": "QYg-T45pR0K8"
      },
      "source": [
        "#### Friedman Nemenyi"
      ]
    },
    {
      "cell_type": "code",
      "execution_count": 60,
      "metadata": {
        "colab": {
          "base_uri": "https://localhost:8080/"
        },
        "id": "DB7AoPTrqy6X",
        "outputId": "0aa08eab-4f3c-4e13-b950-eb53c5ba52fb"
      },
      "outputs": [
        {
          "data": {
            "text/plain": [
              "ACC     0.001000\n",
              "T50     0.001000\n",
              "MS      0.001000\n",
              "HDy     0.022751\n",
              "SORD    0.001000\n",
              "Name: DyS, dtype: float64"
            ]
          },
          "execution_count": 60,
          "metadata": {},
          "output_type": "execute_result"
        }
      ],
      "source": [
        "dts_df = dts_data[2]\n",
        "posthoc = sp.posthoc_nemenyi_friedman(dts_df)\n",
        "posthoc = posthoc.iloc[6]\n",
        "diff = posthoc[posthoc < 0.05]\n",
        "diff"
      ]
    },
    {
      "cell_type": "markdown",
      "metadata": {
        "id": "u49Qth66R2bz"
      },
      "source": [
        "#### Bonferroni Dunn"
      ]
    },
    {
      "cell_type": "code",
      "execution_count": 61,
      "metadata": {
        "colab": {
          "base_uri": "https://localhost:8080/"
        },
        "id": "Am8iQg5POzZW",
        "outputId": "9bf9525d-f04e-4a9c-a87d-d1d14aaafddf"
      },
      "outputs": [
        {
          "data": {
            "text/plain": [
              "ACC     True\n",
              "T50     True\n",
              "MS      True\n",
              "SORD    True\n",
              "Name: DyS, dtype: bool"
            ]
          },
          "execution_count": 61,
          "metadata": {},
          "output_type": "execute_result"
        }
      ],
      "source": [
        "dunn = sp.posthoc_dunn([dts_df['CC'], dts_df['ACC'], dts_df['X'], dts_df['MAX'], dts_df['T50'], dts_df['MS'], dts_df['DyS'], dts_df['HDy'], dts_df['SORD']], p_adjust='bonferroni')\n",
        "dunn.index = quantifiers\n",
        "dunn.columns = quantifiers\n",
        "dunn = dunn < 0.05\n",
        "dunn = dunn.loc['DyS']\n",
        "dunn = dunn[dunn == True]\n",
        "dunn"
      ]
    },
    {
      "cell_type": "markdown",
      "metadata": {
        "id": "ZUfXRptoR37_"
      },
      "source": [
        "#### Best results"
      ]
    },
    {
      "cell_type": "code",
      "execution_count": 62,
      "metadata": {
        "colab": {
          "base_uri": "https://localhost:8080/"
        },
        "id": "Hr_012pZq-UY",
        "outputId": "7a4a2109-4f84-4f89-cfe5-f6a2befe8863"
      },
      "outputs": [
        {
          "data": {
            "text/plain": [
              "DyS     0.086667\n",
              "CC      0.102627\n",
              "MAX     0.106262\n",
              "X       0.150563\n",
              "HDy     0.161421\n",
              "SORD    0.206532\n",
              "T50     0.251262\n",
              "ACC     0.260111\n",
              "MS      0.311683\n",
              "Name: DTS3, dtype: float64"
            ]
          },
          "execution_count": 62,
          "metadata": {},
          "output_type": "execute_result"
        }
      ],
      "source": [
        "mae_best_results.iloc[2].sort_values()"
      ]
    },
    {
      "cell_type": "markdown",
      "metadata": {
        "id": "JgVC26KSqr4j"
      },
      "source": [
        "### DTS4"
      ]
    },
    {
      "cell_type": "markdown",
      "metadata": {
        "id": "AHrjbpF6RdcL"
      },
      "source": [
        "#### Friedman Nemenyi"
      ]
    },
    {
      "cell_type": "code",
      "execution_count": 63,
      "metadata": {
        "colab": {
          "base_uri": "https://localhost:8080/"
        },
        "id": "wukT_DyCqyXj",
        "outputId": "fd68e060-2873-4d01-9b93-32dd671a1473"
      },
      "outputs": [
        {
          "data": {
            "text/plain": [
              "T50     0.001000\n",
              "MS      0.020722\n",
              "SORD    0.017134\n",
              "Name: CC, dtype: float64"
            ]
          },
          "execution_count": 63,
          "metadata": {},
          "output_type": "execute_result"
        }
      ],
      "source": [
        "dts_df = dts_data[3]\n",
        "posthoc = sp.posthoc_nemenyi_friedman(dts_df)\n",
        "posthoc = posthoc.iloc[0]\n",
        "diff = posthoc[posthoc < 0.05]\n",
        "diff"
      ]
    },
    {
      "cell_type": "markdown",
      "metadata": {
        "id": "v6vYzil-RgLe"
      },
      "source": [
        "#### Bonferroni Dunn"
      ]
    },
    {
      "cell_type": "code",
      "execution_count": 64,
      "metadata": {
        "colab": {
          "base_uri": "https://localhost:8080/"
        },
        "id": "LEd1pIF8O0zf",
        "outputId": "48017ccb-a31c-4fdf-97bb-1d61faabb669"
      },
      "outputs": [
        {
          "data": {
            "text/plain": [
              "T50    True\n",
              "Name: CC, dtype: bool"
            ]
          },
          "execution_count": 64,
          "metadata": {},
          "output_type": "execute_result"
        }
      ],
      "source": [
        "dunn = sp.posthoc_dunn([dts_df['CC'], dts_df['ACC'], dts_df['X'], dts_df['MAX'], dts_df['T50'], dts_df['MS'], dts_df['DyS'], dts_df['HDy'], dts_df['SORD']], p_adjust='bonferroni')\n",
        "dunn.index = quantifiers\n",
        "dunn.columns = quantifiers\n",
        "dunn = dunn < 0.05\n",
        "dunn = dunn.loc['CC']\n",
        "dunn = dunn[dunn == True]\n",
        "dunn"
      ]
    },
    {
      "cell_type": "markdown",
      "metadata": {
        "id": "AECLyghmRh4h"
      },
      "source": [
        "#### Best results"
      ]
    },
    {
      "cell_type": "code",
      "execution_count": 65,
      "metadata": {
        "colab": {
          "base_uri": "https://localhost:8080/"
        },
        "id": "YZpu9_cZq_4k",
        "outputId": "cfd5dca2-8e94-4324-8427-9d8424143755"
      },
      "outputs": [
        {
          "data": {
            "text/plain": [
              "CC      0.142857\n",
              "HDy     0.176373\n",
              "DyS     0.185873\n",
              "MAX     0.186143\n",
              "X       0.187103\n",
              "ACC     0.187175\n",
              "SORD    0.197571\n",
              "MS      0.199421\n",
              "T50     0.224032\n",
              "Name: DTS4, dtype: float64"
            ]
          },
          "execution_count": 65,
          "metadata": {},
          "output_type": "execute_result"
        }
      ],
      "source": [
        "mae_best_results.iloc[3].sort_values()"
      ]
    },
    {
      "cell_type": "markdown",
      "metadata": {
        "id": "ZZUBTp9LquEF"
      },
      "source": [
        "### DTS5"
      ]
    },
    {
      "cell_type": "markdown",
      "metadata": {
        "id": "sVwiedmxRkQZ"
      },
      "source": [
        "#### Friedman Nemenyi"
      ]
    },
    {
      "cell_type": "code",
      "execution_count": 66,
      "metadata": {
        "colab": {
          "base_uri": "https://localhost:8080/"
        },
        "id": "RMTDljQLq0cr",
        "outputId": "66204c08-c83b-440f-889a-096fcaeba839"
      },
      "outputs": [
        {
          "data": {
            "text/plain": [
              "T50    0.001000\n",
              "MS     0.042618\n",
              "Name: CC, dtype: float64"
            ]
          },
          "execution_count": 66,
          "metadata": {},
          "output_type": "execute_result"
        }
      ],
      "source": [
        "dts_df = dts_data[4]\n",
        "posthoc = sp.posthoc_nemenyi_friedman(dts_df)\n",
        "posthoc\n",
        "posthoc = posthoc.iloc[0]\n",
        "diff = posthoc[posthoc < 0.05]\n",
        "diff"
      ]
    },
    {
      "cell_type": "markdown",
      "metadata": {
        "id": "N6IPYrWnRl82"
      },
      "source": [
        "#### Bonferroni Dunn"
      ]
    },
    {
      "cell_type": "code",
      "execution_count": 67,
      "metadata": {
        "colab": {
          "base_uri": "https://localhost:8080/"
        },
        "id": "ydBR3PPkO1vf",
        "outputId": "94c5004f-a16e-4085-c74e-23af5133bb2b"
      },
      "outputs": [
        {
          "data": {
            "text/plain": [
              "T50    True\n",
              "Name: CC, dtype: bool"
            ]
          },
          "execution_count": 67,
          "metadata": {},
          "output_type": "execute_result"
        }
      ],
      "source": [
        "dunn = sp.posthoc_dunn([dts_df['CC'], dts_df['ACC'], dts_df['X'], dts_df['MAX'], dts_df['T50'], dts_df['MS'], dts_df['DyS'], dts_df['HDy'], dts_df['SORD']], p_adjust='bonferroni')\n",
        "dunn.index = quantifiers\n",
        "dunn.columns = quantifiers\n",
        "dunn = dunn < 0.05\n",
        "dunn = dunn.loc['CC']\n",
        "dunn = dunn[dunn == True]\n",
        "dunn"
      ]
    },
    {
      "cell_type": "markdown",
      "metadata": {
        "id": "s-DwibNARnYK"
      },
      "source": [
        "#### Best results"
      ]
    },
    {
      "cell_type": "code",
      "execution_count": 68,
      "metadata": {
        "colab": {
          "base_uri": "https://localhost:8080/"
        },
        "id": "jTFASxXFrAZh",
        "outputId": "689e79d2-ab05-436d-9c8b-d1e64f12d9fc"
      },
      "outputs": [
        {
          "data": {
            "text/plain": [
              "CC      0.142857\n",
              "HDy     0.156683\n",
              "DyS     0.185873\n",
              "MAX     0.186143\n",
              "X       0.187103\n",
              "ACC     0.187175\n",
              "SORD    0.197571\n",
              "MS      0.199421\n",
              "T50     0.224032\n",
              "Name: DTS5, dtype: float64"
            ]
          },
          "execution_count": 68,
          "metadata": {},
          "output_type": "execute_result"
        }
      ],
      "source": [
        "mae_best_results.iloc[4].sort_values()"
      ]
    },
    {
      "cell_type": "markdown",
      "metadata": {
        "id": "zQjgveVoqwuu"
      },
      "source": [
        "### DTS6"
      ]
    },
    {
      "cell_type": "markdown",
      "metadata": {
        "id": "1rG0T4KXRpGW"
      },
      "source": [
        "#### Friedman Nemenyi"
      ]
    },
    {
      "cell_type": "code",
      "execution_count": 69,
      "metadata": {
        "colab": {
          "base_uri": "https://localhost:8080/"
        },
        "id": "yLGb0uWSrA7m",
        "outputId": "6733469d-3a25-4dca-81f0-39d7064247ab"
      },
      "outputs": [
        {
          "data": {
            "text/plain": [
              "CC     0.001\n",
              "ACC    0.001\n",
              "T50    0.001\n",
              "MS     0.001\n",
              "Name: DyS, dtype: float64"
            ]
          },
          "execution_count": 69,
          "metadata": {},
          "output_type": "execute_result"
        }
      ],
      "source": [
        "dts_df = dts_data[5]\n",
        "posthoc = sp.posthoc_nemenyi_friedman(dts_df)\n",
        "posthoc = posthoc.iloc[6]\n",
        "diff = posthoc[posthoc < 0.05]\n",
        "diff"
      ]
    },
    {
      "cell_type": "markdown",
      "metadata": {
        "id": "k5LR3eVFRqy4"
      },
      "source": [
        "#### Bonferroni Dunn"
      ]
    },
    {
      "cell_type": "code",
      "execution_count": 70,
      "metadata": {
        "colab": {
          "base_uri": "https://localhost:8080/"
        },
        "id": "ullMGO6BO3I1",
        "outputId": "dcab2b88-bace-4942-f0a1-fa15453a1761"
      },
      "outputs": [
        {
          "data": {
            "text/plain": [
              "Series([], Name: DyS, dtype: bool)"
            ]
          },
          "execution_count": 70,
          "metadata": {},
          "output_type": "execute_result"
        }
      ],
      "source": [
        "dunn = sp.posthoc_dunn([dts_df['CC'], dts_df['ACC'], dts_df['X'], dts_df['MAX'], dts_df['T50'], dts_df['MS'], dts_df['DyS'], dts_df['HDy'], dts_df['SORD']], p_adjust='bonferroni')\n",
        "dunn.index = quantifiers\n",
        "dunn.columns = quantifiers\n",
        "dunn = dunn < 0.05\n",
        "dunn = dunn.loc['DyS']\n",
        "dunn = dunn[dunn == True]\n",
        "dunn"
      ]
    },
    {
      "cell_type": "markdown",
      "metadata": {
        "id": "_5zaO5nmRsS0"
      },
      "source": [
        "#### Best results"
      ]
    },
    {
      "cell_type": "code",
      "execution_count": 71,
      "metadata": {
        "colab": {
          "base_uri": "https://localhost:8080/"
        },
        "id": "jbJx74FCq1Un",
        "outputId": "f8d6df41-a1e1-452c-a017-27aa67ff7f44"
      },
      "outputs": [
        {
          "data": {
            "text/plain": [
              "DyS     0.205548\n",
              "SORD    0.212802\n",
              "HDy     0.218635\n",
              "X       0.244770\n",
              "MAX     0.244770\n",
              "T50     0.282651\n",
              "ACC     0.293722\n",
              "MS      0.335190\n",
              "CC      0.336317\n",
              "Name: DTS6, dtype: float64"
            ]
          },
          "execution_count": 71,
          "metadata": {},
          "output_type": "execute_result"
        }
      ],
      "source": [
        "mae_best_results.iloc[5].sort_values()"
      ]
    },
    {
      "cell_type": "markdown",
      "metadata": {
        "id": "jZ9Qfqe3a0fR"
      },
      "source": [
        "## Ranking quantifiers by dataset"
      ]
    },
    {
      "cell_type": "markdown",
      "metadata": {
        "id": "SQ7BxI6xcsJB"
      },
      "source": [
        "### Mean rank by quantifier"
      ]
    },
    {
      "cell_type": "code",
      "execution_count": 72,
      "metadata": {
        "colab": {
          "base_uri": "https://localhost:8080/"
        },
        "id": "WV1CgB5_a5Cp",
        "outputId": "646ed02e-f51e-4656-b022-4695ba71923c"
      },
      "outputs": [
        {
          "data": {
            "text/plain": [
              "DyS     2.167\n",
              "HDy     2.833\n",
              "CC      3.500\n",
              "SORD    5.167\n",
              "X       5.250\n",
              "MAX     5.417\n",
              "MS      6.333\n",
              "ACC     6.500\n",
              "T50     7.833\n",
              "dtype: float64"
            ]
          },
          "execution_count": 72,
          "metadata": {},
          "output_type": "execute_result"
        }
      ],
      "source": [
        "qnt_rank = mae_best_results.T.rank()\n",
        "qnt_mean_rank = qnt_rank.T.mean()\n",
        "qnt_mean_rank = qnt_mean_rank.round(3).sort_values()\n",
        "qnt_mean_rank"
      ]
    },
    {
      "cell_type": "code",
      "execution_count": 73,
      "metadata": {
        "colab": {
          "base_uri": "https://localhost:8080/"
        },
        "id": "5TJEbXWkc-4U",
        "outputId": "0d050cca-3215-431d-84c5-15b5297c3b31"
      },
      "outputs": [
        {
          "data": {
            "text/html": [
              "<div>\n",
              "<style scoped>\n",
              "    .dataframe tbody tr th:only-of-type {\n",
              "        vertical-align: middle;\n",
              "    }\n",
              "\n",
              "    .dataframe tbody tr th {\n",
              "        vertical-align: top;\n",
              "    }\n",
              "\n",
              "    .dataframe thead th {\n",
              "        text-align: right;\n",
              "    }\n",
              "</style>\n",
              "<table border=\"1\" class=\"dataframe\">\n",
              "  <thead>\n",
              "    <tr style=\"text-align: right;\">\n",
              "      <th></th>\n",
              "      <th>DyS</th>\n",
              "      <th>HDy</th>\n",
              "      <th>CC</th>\n",
              "      <th>SORD</th>\n",
              "      <th>X</th>\n",
              "      <th>MAX</th>\n",
              "      <th>MS</th>\n",
              "      <th>ACC</th>\n",
              "      <th>T50</th>\n",
              "    </tr>\n",
              "  </thead>\n",
              "  <tbody>\n",
              "    <tr>\n",
              "      <th>DTS1</th>\n",
              "      <td>1.0</td>\n",
              "      <td>3.0</td>\n",
              "      <td>7.0</td>\n",
              "      <td>4.0</td>\n",
              "      <td>5.0</td>\n",
              "      <td>8.0</td>\n",
              "      <td>2.0</td>\n",
              "      <td>6.0</td>\n",
              "      <td>9.0</td>\n",
              "    </tr>\n",
              "    <tr>\n",
              "      <th>DTS2</th>\n",
              "      <td>4.0</td>\n",
              "      <td>2.0</td>\n",
              "      <td>1.0</td>\n",
              "      <td>5.0</td>\n",
              "      <td>8.0</td>\n",
              "      <td>9.0</td>\n",
              "      <td>3.0</td>\n",
              "      <td>6.0</td>\n",
              "      <td>7.0</td>\n",
              "    </tr>\n",
              "    <tr>\n",
              "      <th>DTS3</th>\n",
              "      <td>1.0</td>\n",
              "      <td>5.0</td>\n",
              "      <td>2.0</td>\n",
              "      <td>6.0</td>\n",
              "      <td>4.0</td>\n",
              "      <td>3.0</td>\n",
              "      <td>9.0</td>\n",
              "      <td>8.0</td>\n",
              "      <td>7.0</td>\n",
              "    </tr>\n",
              "    <tr>\n",
              "      <th>DTS4</th>\n",
              "      <td>3.0</td>\n",
              "      <td>2.0</td>\n",
              "      <td>1.0</td>\n",
              "      <td>7.0</td>\n",
              "      <td>5.0</td>\n",
              "      <td>4.0</td>\n",
              "      <td>8.0</td>\n",
              "      <td>6.0</td>\n",
              "      <td>9.0</td>\n",
              "    </tr>\n",
              "    <tr>\n",
              "      <th>DTS5</th>\n",
              "      <td>3.0</td>\n",
              "      <td>2.0</td>\n",
              "      <td>1.0</td>\n",
              "      <td>7.0</td>\n",
              "      <td>5.0</td>\n",
              "      <td>4.0</td>\n",
              "      <td>8.0</td>\n",
              "      <td>6.0</td>\n",
              "      <td>9.0</td>\n",
              "    </tr>\n",
              "    <tr>\n",
              "      <th>DTS6</th>\n",
              "      <td>1.0</td>\n",
              "      <td>3.0</td>\n",
              "      <td>9.0</td>\n",
              "      <td>2.0</td>\n",
              "      <td>4.5</td>\n",
              "      <td>4.5</td>\n",
              "      <td>8.0</td>\n",
              "      <td>7.0</td>\n",
              "      <td>6.0</td>\n",
              "    </tr>\n",
              "  </tbody>\n",
              "</table>\n",
              "</div>"
            ],
            "text/plain": [
              "      DyS  HDy   CC  SORD    X  MAX   MS  ACC  T50\n",
              "DTS1  1.0  3.0  7.0   4.0  5.0  8.0  2.0  6.0  9.0\n",
              "DTS2  4.0  2.0  1.0   5.0  8.0  9.0  3.0  6.0  7.0\n",
              "DTS3  1.0  5.0  2.0   6.0  4.0  3.0  9.0  8.0  7.0\n",
              "DTS4  3.0  2.0  1.0   7.0  5.0  4.0  8.0  6.0  9.0\n",
              "DTS5  3.0  2.0  1.0   7.0  5.0  4.0  8.0  6.0  9.0\n",
              "DTS6  1.0  3.0  9.0   2.0  4.5  4.5  8.0  7.0  6.0"
            ]
          },
          "execution_count": 73,
          "metadata": {},
          "output_type": "execute_result"
        }
      ],
      "source": [
        "qnt_rank_transposed = qnt_rank.T\n",
        "qnt_rank_transposed = qnt_rank_transposed[qnt_mean_rank.index]\n",
        "qnt_rank_transposed"
      ]
    },
    {
      "cell_type": "markdown",
      "metadata": {
        "id": "lPtaQkdRcmEP"
      },
      "source": [
        "### Box plot ranking"
      ]
    },
    {
      "cell_type": "code",
      "execution_count": 74,
      "metadata": {
        "colab": {
          "base_uri": "https://localhost:8080/",
          "height": 659
        },
        "id": "vZVwOqXLbzQr",
        "outputId": "eab1ba06-3712-495b-ac6b-53a29978c867"
      },
      "outputs": [
        {
          "data": {
            "image/png": "[encoded data removed]",
            "text/plain": [
              "<Figure size 3800x1800 with 1 Axes>"
            ]
          },
          "metadata": {},
          "output_type": "display_data"
        }
      ],
      "source": [
        "sample = qnt_rank_transposed\n",
        "margin_left = 0.05\n",
        "margin_right= 0.99\n",
        "margin_top = 0.99\n",
        "margin_bottom = .23\n",
        "plt_width = 38\n",
        "plt_heigth = 18\n",
        "plot_rotation = 75\n",
        "axis_font_size = 50\n",
        "labels_size = 60\n",
        "\n",
        "with sns.axes_style(\"whitegrid\"), sns.color_palette('Spectral', qnt_rank_transposed.shape[1]):\n",
        "    plt.figure(figsize=(plt_width,plt_heigth))\n",
        "    plt.subplots_adjust(left=margin_left, bottom=margin_bottom, right=margin_right, top=margin_top)\n",
        "    ax=sns.boxplot(data=sample)\n",
        "    plt.xticks(rotation = plot_rotation, fontsize = axis_font_size)\n",
        "    plt.yticks(fontsize = axis_font_size)\n",
        "    ax.set_xlabel(\"Quantifiers\",fontsize=labels_size)\n",
        "    ax.set_ylabel(\"Ranking\",fontsize=labels_size)\n",
        "\n",
        "plt.show()"
      ]
    },
    {
      "cell_type": "markdown",
      "metadata": {
        "id": "lAwO8N0d22y5"
      },
      "source": [
        "## Ranking Aedes X Outros quantifiers MAE in alpha = 0.0"
      ]
    },
    {
      "cell_type": "code",
      "execution_count": 75,
      "metadata": {
        "colab": {
          "base_uri": "https://localhost:8080/"
        },
        "id": "3LUwCVQJ2vFX",
        "outputId": "a0b4d3cc-2054-4d9b-a5e3-4878bad3f786"
      },
      "outputs": [
        {
          "data": {
            "text/plain": [
              "Index(['T50', 'DyS', 'HDy', 'ACC', 'MS', 'SORD', 'CC', 'X', 'MAX'], dtype='object', name='quantifier')"
            ]
          },
          "execution_count": 75,
          "metadata": {},
          "output_type": "execute_result"
        }
      ],
      "source": [
        "error_by_alpha = AedesXOutros_vgg_pt[['abs_error', 'alpha', 'quantifier']]\n",
        "error_by_alpha = error_by_alpha[error_by_alpha['alpha'] == 0]\n",
        "error_sorted = error_by_alpha.groupby('quantifier').aggregate({'abs_error': 'mean'}).sort_values(by='abs_error')\n",
        "error_sorted.index"
      ]
    },
    {
      "cell_type": "code",
      "execution_count": 80,
      "metadata": {
        "colab": {
          "base_uri": "https://localhost:8080/",
          "height": 634
        },
        "id": "8frdBdlZ2v2L",
        "outputId": "1684c324-8cfd-4ea8-8e6b-8b682408eed5"
      },
      "outputs": [
        {
          "data": {
            "image/png": "[encoded data removed]",
            "text/plain": [
              "<Figure size 3800x1800 with 1 Axes>"
            ]
          },
          "metadata": {},
          "output_type": "display_data"
        }
      ],
      "source": [
        "sample = error_by_alpha\n",
        "margin_left = 0.05\n",
        "margin_right= 0.99\n",
        "margin_top = 0.99\n",
        "margin_bottom = .23\n",
        "plt_width = 38\n",
        "plt_heigth = 18\n",
        "plot_rotation = 75\n",
        "axis_font_size = 50\n",
        "labels_size = 60\n",
        "\n",
        "with sns.axes_style(\"whitegrid\"), sns.color_palette('Spectral', len(quantifiers)):\n",
        "    plt.figure(figsize=(plt_width,plt_heigth))\n",
        "    plt.subplots_adjust(left=margin_left, bottom=margin_bottom, right=margin_right, top=margin_top)\n",
        "    ax=sns.boxplot(data=sample, x='quantifier', y='abs_error', order=error_sorted.index)\n",
        "    plt.xticks(rotation = plot_rotation, fontsize = axis_font_size)\n",
        "    plt.yticks(fontsize = axis_font_size)\n",
        "    ax.set_xlabel(\"Quantifiers\",fontsize=labels_size)\n",
        "    ax.set_ylabel(\"Absolute error\",fontsize=labels_size)\n",
        "\n",
        "plt.show()"
      ]
    }
  ],
  "metadata": {
    "colab": {
      "provenance": []
    },
    "kernelspec": {
      "display_name": "Python 3",
      "name": "python3"
    },
    "language_info": {
      "codemirror_mode": {
        "name": "ipython",
        "version": 3
      },
      "file_extension": ".py",
      "mimetype": "text/x-python",
      "name": "python",
      "nbconvert_exporter": "python",
      "pygments_lexer": "ipython3",
      "version": "3.11.2"
    }
  },
  "nbformat": 4,
  "nbformat_minor": 0
}
